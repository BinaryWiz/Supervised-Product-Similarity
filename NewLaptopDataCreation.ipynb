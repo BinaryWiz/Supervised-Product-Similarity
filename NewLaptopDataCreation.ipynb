{
 "cells": [
  {
   "cell_type": "code",
   "execution_count": 1,
   "metadata": {},
   "outputs": [],
   "source": [
    "import pandas as pd\n",
    "import sys\n",
    "import os\n",
    "import numpy as np\n",
    "import random\n",
    "from tqdm import tqdm\n",
    "from nltk.corpus import stopwords\n",
    "pd.set_option('mode.chained_assignment', None)"
   ]
  },
  {
   "cell_type": "code",
   "execution_count": 2,
   "metadata": {},
   "outputs": [],
   "source": [
    "class Common():\n",
    "    # Max length of a title to be fed into the model\n",
    "    MAX_LEN = 44\n",
    "\n",
    "    # Number of training examples\n",
    "    m = 19380\n",
    "\n",
    "# These are words that commonly come up with laptops\n",
    "modifiers = ['premium', 'new', 'fast', 'latest model']\n",
    "add_ins = ['USB 3.0', 'USB 3.1 Type-C', 'USB Type-C', 'Bluetooth', 'WIFI', 'Webcam', 'FP Reader',\n",
    "            'HDMI', '802.11ac', '802.11 ac', 'home', 'flagship', 'business', 'GbE LAN', 'DVD-RW',\n",
    "            'DVD', 'Windows 10']\n",
    "\n",
    "# For creating laptop data\n",
    "hard_drive_types = ['HDD', 'Hard Drive', 'Internal Hard Drive']\n",
    "ssd_types = ['SSD', 'Solid State Drive', 'M.2 SSD', 'SATA SSD']\n",
    "\n",
    "# The column names for all the DataFrames\n",
    "COLUMN_NAMES = ['title_one', 'title_two', 'label']\n",
    "    \n",
    "def get_max_len(df):\n",
    "    max_len = 0\n",
    "    for row in df.itertuples():\n",
    "        if len(row.title_one.split(' ')) > max_len:\n",
    "            max_len = len(row.title_one.split(' '))\n",
    "            \n",
    "        if len(row.title_two.split(' ')) > max_len:\n",
    "            max_len = len(row.title_two.split(' '))\n",
    "    \n",
    "    return max_len\n",
    "\n",
    "def print_dataframe(df):\n",
    "    for idx in range(len(df)):\n",
    "        print(df.iloc[idx].title_one + '\\n' + df.iloc[idx].title_two)\n",
    "        print('________________________________________________________________')\n",
    "\n",
    "def create_final_data(pos_df, neg_df):\n",
    "    pos_df = pos_df.sample(frac=1)\n",
    "    neg_df = neg_df.sample(frac=1)\n",
    "    final_df = pd.concat([pos_df[:min(len(pos_df), len(neg_df))], neg_df[:min(len(pos_df), len(neg_df))]])\n",
    "    final_df = final_df.sample(frac=1)\n",
    "    return final_df"
   ]
  },
  {
   "cell_type": "code",
   "execution_count": 3,
   "metadata": {},
   "outputs": [],
   "source": [
    "# ## Data Processsing and Organization\n",
    "# Here, all we really want to do is prepare the data for training. This includes:\n",
    "# * Simplifying the original data\n",
    "# * Normalizing the data \n",
    "# * Balancing the positive and negative examples\n",
    "# * Creating the embedding representations that will actually get fed into the neural network\n",
    "# Organizing and normalizing the data\n",
    "\n",
    "def remove_stop_words(phrase):\n",
    "    # Creates the stopwords\n",
    "    to_stop = stopwords.words('english')\n",
    "    punctuation = \"!”#$%&’()*+,-./:;<=>?@[\\]^_`{|}~ \"\n",
    "    for c in punctuation:\n",
    "        to_stop.append(c)\n",
    "    to_stop.append('null')\n",
    "    \n",
    "    for punc in punctuation:\n",
    "        phrase = phrase.replace(punc, ' ')\n",
    "    \n",
    "    return ' '.join((' '.join([x for x in phrase.split(' ') if x not in to_stop])).split())\n",
    "\n",
    "# Drop the Unnamed: 0 column and drop any row where it is all NaN\n",
    "def remove_misc(df):\n",
    "    df = df.drop(columns=['Unnamed: 0'])\n",
    "    df = df.dropna(how='all')\n",
    "    return df\n"
   ]
  },
  {
   "cell_type": "markdown",
   "metadata": {},
   "source": [
    "## Laptop Data (From Laptop Dataframe)"
   ]
  },
  {
   "cell_type": "code",
   "execution_count": 4,
   "metadata": {},
   "outputs": [],
   "source": [
    "# This class will be used in order to exchange the different attributes\n",
    "# to create negative examples\n",
    "class LaptopAttributes():\n",
    "    company = {'Apple'}\n",
    "    product = {'MacBook Pro'}\n",
    "    inches = {'13.3'}\n",
    "    cpu = {'Intel Core i5 2.3GHz'}\n",
    "    ram = {'4GB'}\n",
    "    memory = {'256GB SSD'}\n",
    "    gpu = {'Intel HD Graphics 520'}\n",
    "    screen = {'1440x900'}\n",
    "    \n",
    "    @staticmethod\n",
    "    def get_all_data():\n",
    "        return {\n",
    "            'company': LaptopAttributes.company,\n",
    "            'product': LaptopAttributes.product,\n",
    "            'inches': LaptopAttributes.inches,\n",
    "            'cpu': LaptopAttributes.cpu,\n",
    "            'ram': LaptopAttributes.ram,\n",
    "            'memory': LaptopAttributes.memory,\n",
    "            'gpu': LaptopAttributes.gpu,\n",
    "            'screen': LaptopAttributes.screen\n",
    "        }\n"
   ]
  },
  {
   "cell_type": "code",
   "execution_count": 5,
   "metadata": {},
   "outputs": [],
   "source": [
    "# Create attribute sets\n",
    "def create_attribute_sets(df):\n",
    "    LaptopAttributes.company.update([row.Company for row in df[['Company']].itertuples()])\n",
    "    LaptopAttributes.product.update([row.Product for row in df[['Product']].itertuples()])\n",
    "    LaptopAttributes.inches.update([str(row.Inches) for row in df[['Inches']].itertuples()])\n",
    "    LaptopAttributes.cpu.update([row.Cpu for row in df[['Cpu']].itertuples()])\n",
    "    LaptopAttributes.ram.update([row.Ram for row in df[['Ram']].itertuples()])\n",
    "    LaptopAttributes.memory.update([row.Memory for row in df[['Memory']].itertuples()])\n",
    "    LaptopAttributes.gpu.update([row.Gpu for row in df[['Gpu']].itertuples()])\n",
    "    LaptopAttributes.screen.update([row.ScreenResolution for row in df[['ScreenResolution']].itertuples()])\n"
   ]
  },
  {
   "cell_type": "code",
   "execution_count": 26,
   "metadata": {},
   "outputs": [],
   "source": [
    "def concatenate_row(row):\n",
    "    # Note: got rid of everything after the '(' because it has info about the actual specs of the laptop\n",
    "    # so if we change the specs, we need to fix that too\n",
    "    \n",
    "    # Special tags at the end of the amount of inches of the laptop and the RAM to simulate real data\n",
    "    inch_attr = str(row['Inches']) + random.choice([' inch', '\"'])\n",
    "    ram_attr = row['Ram'] + random.choice([' ram', ' memory'])\n",
    "    \n",
    "    cpu_attr = row['Cpu']\n",
    "    if random.choice([0, 1]):\n",
    "        cpu_attr = cpu_attr.split(' ')\n",
    "        if random.choice([0, 1]):\n",
    "            if 'Intel' in cpu_attr:\n",
    "                cpu_attr.remove('Intel')\n",
    "        if random.choice([0, 1]):\n",
    "            if 'Core' in cpu_attr:\n",
    "                cpu_attr.remove('Core')\n",
    "        if random.choice([0, 1]):\n",
    "            if 'AMD' in cpu_attr:\n",
    "                cpu_attr.remove('AMD')\n",
    "    \n",
    "        cpu_attr = ' '.join(cpu_attr)\n",
    "\n",
    "    # Create a list for all the product attributes\n",
    "    order_attrs = [ row['Company'],\n",
    "                    row['Product'].split('(')[0],\n",
    "                  ]\n",
    "    \n",
    "    more_type_attrs = [ row['TypeName'],\n",
    "                        inch_attr\n",
    "                      ]\n",
    "    \n",
    "    spec_attrs = [ # row['ScreenResolution'],\n",
    "                   cpu_attr,\n",
    "                   ram_attr,\n",
    "                   row['Memory']\n",
    "                 ]\n",
    "    \n",
    "    random.shuffle(more_type_attrs)\n",
    "    random.shuffle(spec_attrs)\n",
    "    \n",
    "    order_attrs = order_attrs + more_type_attrs + spec_attrs\n",
    "    \n",
    "    return ' '.join(order_attrs)"
   ]
  },
  {
   "cell_type": "code",
   "execution_count": 7,
   "metadata": {},
   "outputs": [],
   "source": [
    "# Creates the negative examples for the laptop data\n",
    "# The laptop_df is the original data, the new_df is the dataframe to append the new data to\n",
    "# and the attributes are the attributes to swap for the new data\n",
    "def create_neg_laptop_data(laptop_df, attributes):\n",
    "    new_column_names = ['title_one', 'title_two', 'label']\n",
    "    temp = []\n",
    "    for row in tqdm(range(len(laptop_df))):\n",
    "        # Create a copy of the row for the negative example\n",
    "        neg_row = laptop_df.iloc[row]\n",
    "        for attribute_class in attributes:\n",
    "            # Get the row in the laptop_data\n",
    "            orig_row = laptop_df.iloc[row]\n",
    "            \n",
    "            # Get the attribute that we are trying to change\n",
    "            attribute_val = orig_row[attribute_class]\n",
    "            \n",
    "            # Temporarily value for the new value\n",
    "            new_val = attribute_val\n",
    "            \n",
    "            # Make sure we really get a new attribute\n",
    "            while new_val == attribute_val:\n",
    "                new_val = random.sample(LaptopAttributes.get_all_data()[attribute_class.lower()], 1)[0]\n",
    "            \n",
    "            # Change the value in the neg_row to the new value\n",
    "            neg_row[attribute_class] = new_val\n",
    "            \n",
    "            # Concatenate and normalize the data\n",
    "            title_one = remove_stop_words(concatenate_row(orig_row).lower())\n",
    "            title_two = remove_stop_words(concatenate_row(neg_row).lower())\n",
    "            \n",
    "            # Append the data to the new df\n",
    "            temp.append([title_one, title_two, 0])\n",
    "\n",
    "    return pd.DataFrame(temp, columns=new_column_names)"
   ]
  },
  {
   "cell_type": "code",
   "execution_count": 8,
   "metadata": {},
   "outputs": [],
   "source": [
    "# Creates the postive examples for the laptop data\n",
    "# The laptop_df is the original data, the new_df is the dataframe to append the new data to\n",
    "# and the attributes are the attributes to swap or delete for the new data\n",
    "def create_pos_laptop_data(laptop_df, rm_attrs, add_attrs):\n",
    "    new_column_names = ['title_one', 'title_two', 'label']\n",
    "    temp = []\n",
    "    for row in tqdm(range(len(laptop_df))):\n",
    "        # Remove the attribute from the new title\n",
    "        for attr_list in rm_attrs:\n",
    "            # Create a copy of the row for the negative example\n",
    "            new_row = laptop_df.iloc[row]\n",
    "            orig_row = laptop_df.iloc[row]\n",
    "            for attr in attr_list:\n",
    "                new_row[attr] = ''\n",
    "        \n",
    "            title_one = remove_stop_words(concatenate_row(orig_row).lower())\n",
    "            title_two = remove_stop_words(concatenate_row(new_row).lower())\n",
    "            \n",
    "            temp.append([title_one, title_two, 1])\n",
    "    \n",
    "    return pd.DataFrame(temp, columns=new_column_names)"
   ]
  },
  {
   "cell_type": "code",
   "execution_count": 10,
   "metadata": {},
   "outputs": [],
   "source": [
    "# Creates the negative examples for the laptop data\n",
    "# The laptop_df is the original data, the new_df is the dataframe to append the new data to\n",
    "# and the attributes are the attributes to swap for the new data\n",
    "def create_neg_laptop_data(laptop_df, attributes):\n",
    "    new_column_names = ['title_one', 'title_two', 'label']\n",
    "    temp = []\n",
    "    for row in tqdm(range(len(laptop_df))):\n",
    "        # Create a copy of the row for the negative example\n",
    "        neg_row = laptop_df.iloc[row]\n",
    "        for attribute_class in attributes:\n",
    "            # Get the row in the laptop_data\n",
    "            orig_row = laptop_df.iloc[row]\n",
    "            \n",
    "            # Get the attribute that we are trying to change\n",
    "            attribute_val = orig_row[attribute_class]\n",
    "            \n",
    "            # Temporarily value for the new value\n",
    "            new_val = attribute_val\n",
    "            \n",
    "            # Make sure we really get a new attribute\n",
    "            while new_val == attribute_val:\n",
    "                new_val = random.sample(LaptopAttributes.get_all_data()[attribute_class.lower()], 1)[0]\n",
    "            \n",
    "            # Change the value in the neg_row to the new value\n",
    "            neg_row[attribute_class] = new_val\n",
    "            \n",
    "            # Concatenate and normalize the data\n",
    "            title_one = remove_stop_words(concatenate_row(orig_row).lower())\n",
    "            title_two = remove_stop_words(concatenate_row(neg_row).lower())\n",
    "            \n",
    "            # Append the data to the new df\n",
    "            temp.append([title_one, title_two, 0])\n",
    "\n",
    "    return pd.DataFrame(temp, columns=new_column_names)"
   ]
  },
  {
   "cell_type": "code",
   "execution_count": 11,
   "metadata": {},
   "outputs": [
    {
     "name": "stderr",
     "output_type": "stream",
     "text": [
      "  0%|          | 1/1303 [00:00<02:47,  7.79it/s]"
     ]
    },
    {
     "name": "stdout",
     "output_type": "stream",
     "text": [
      "Generating laptop data . . . \n"
     ]
    },
    {
     "name": "stderr",
     "output_type": "stream",
     "text": [
      "100%|██████████| 1303/1303 [00:03<00:00, 384.32it/s]\n",
      "100%|██████████| 1303/1303 [00:02<00:00, 589.73it/s]\n"
     ]
    }
   ],
   "source": [
    "def create_laptop_data():\n",
    "    file_path = 'data/train/final_laptop_data.csv'\n",
    "    # Load the laptop data\n",
    "    laptop_df = pd.read_csv('data/train/laptops.csv', encoding='latin-1')\n",
    "    \n",
    "    # Create the attribute sets for the LaptopAttributes\n",
    "    create_attribute_sets(laptop_df)\n",
    "    \n",
    "    if not os.path.exists(file_path):\n",
    "        print('Generating laptop data . . . ')\n",
    "        # Create the negative and positive dataframes \n",
    "        neg_df = create_neg_laptop_data(laptop_df, attributes=['Cpu', 'Memory', 'Ram', 'Inches', 'Product'])\n",
    "        pos_df = create_pos_laptop_data(laptop_df, rm_attrs = [['Company'], ['TypeName'], ['Product']], add_attrs = [])\n",
    "        \n",
    "        # Concatenate the data and save it\n",
    "        final_laptop_df = create_final_data(pos_df, neg_df)\n",
    "        final_laptop_df = final_laptop_df.sample(frac=1)\n",
    "        final_laptop_df.to_csv(file_path)\n",
    "\n",
    "    else:\n",
    "        print('Already have laptop data. Moving on . . . ')\n",
    "        \n",
    "create_laptop_data()"
   ]
  },
  {
   "cell_type": "code",
   "execution_count": 21,
   "metadata": {},
   "outputs": [],
   "source": [
    "file_path = 'data/train/final_laptop_data.csv'\n",
    "# Load the laptop data\n",
    "laptop_df = pd.read_csv('data/train/laptops.csv', encoding='latin-1')\n",
    "\n",
    "# Create the attribute sets for the LaptopAttributes\n",
    "create_attribute_sets(laptop_df)"
   ]
  },
  {
   "cell_type": "code",
   "execution_count": 12,
   "metadata": {},
   "outputs": [
    {
     "ename": "NameError",
     "evalue": "name 'laptop_df' is not defined",
     "output_type": "error",
     "traceback": [
      "\u001b[0;31m---------------------------------------------------------------------------\u001b[0m",
      "\u001b[0;31mNameError\u001b[0m                                 Traceback (most recent call last)",
      "\u001b[0;32m<ipython-input-12-6add78547834>\u001b[0m in \u001b[0;36m<module>\u001b[0;34m\u001b[0m\n\u001b[0;32m----> 1\u001b[0;31m \u001b[0mneg_df\u001b[0m \u001b[0;34m=\u001b[0m \u001b[0mcreate_neg_laptop_data\u001b[0m\u001b[0;34m(\u001b[0m\u001b[0mlaptop_df\u001b[0m\u001b[0;34m,\u001b[0m \u001b[0mattributes\u001b[0m\u001b[0;34m=\u001b[0m\u001b[0;34m[\u001b[0m\u001b[0;34m'Cpu'\u001b[0m\u001b[0;34m,\u001b[0m \u001b[0;34m'Memory'\u001b[0m\u001b[0;34m,\u001b[0m \u001b[0;34m'Ram'\u001b[0m\u001b[0;34m,\u001b[0m \u001b[0;34m'Inches'\u001b[0m\u001b[0;34m,\u001b[0m \u001b[0;34m'Product'\u001b[0m\u001b[0;34m]\u001b[0m\u001b[0;34m)\u001b[0m\u001b[0;34m\u001b[0m\u001b[0;34m\u001b[0m\u001b[0m\n\u001b[0m",
      "\u001b[0;31mNameError\u001b[0m: name 'laptop_df' is not defined"
     ]
    }
   ],
   "source": [
    "neg_df = create_neg_laptop_data(laptop_df, attributes=['Cpu', 'Memory', 'Ram', 'Inches', 'Product'])"
   ]
  },
  {
   "cell_type": "code",
   "execution_count": 94,
   "metadata": {},
   "outputs": [
    {
     "name": "stdout",
     "output_type": "stream",
     "text": [
      "apple macbook pro 13 3 inch ultrabook intel core i5 2 3ghz 128gb ssd 8gb memory\n",
      "apple macbook pro 13 3 inch ultrabook 8gb ram amd a6 series 7310 2ghz 128gb ssd\n"
     ]
    }
   ],
   "source": [
    "print(neg_df.iloc[0].title_one)\n",
    "print(neg_df.iloc[0].title_two)"
   ]
  },
  {
   "cell_type": "code",
   "execution_count": 78,
   "metadata": {},
   "outputs": [
    {
     "name": "stderr",
     "output_type": "stream",
     "text": [
      "  0%|                                                                       | 0/1303 [00:00<?, ?it/s]C:\\Users\\Jason\\miniconda3\\envs\\ml\\lib\\site-packages\\ipykernel_launcher.py:14: SettingWithCopyWarning: \n",
      "A value is trying to be set on a copy of a slice from a DataFrame\n",
      "\n",
      "See the caveats in the documentation: https://pandas.pydata.org/pandas-docs/stable/user_guide/indexing.html#returning-a-view-versus-a-copy\n",
      "  \n",
      "100%|███████████████████████████████████████████████████████████| 1303/1303 [00:05<00:00, 254.88it/s]\n"
     ]
    }
   ],
   "source": [
    "pos_df = create_pos_laptop_data(laptop_df, rm_attrs = [['Company'], ['TypeName'], ['Product']], add_attrs = [])"
   ]
  },
  {
   "cell_type": "code",
   "execution_count": 79,
   "metadata": {},
   "outputs": [
    {
     "name": "stdout",
     "output_type": "stream",
     "text": [
      "apple macbook pro 13 3\" ultrabook intel core i5 2 3ghz 8gb memory 128gb ssd\n",
      "macbook pro ultrabook 13 3\" 8gb memory 128gb ssd intel core i5 2 3ghz\n"
     ]
    }
   ],
   "source": [
    "print(pos_df.iloc[0].title_one)\n",
    "print(pos_df.iloc[0].title_two)"
   ]
  },
  {
   "cell_type": "markdown",
   "metadata": {},
   "source": [
    "## Laptop Data from Spec Attributes"
   ]
  },
  {
   "cell_type": "code",
   "execution_count": 13,
   "metadata": {},
   "outputs": [],
   "source": [
    "class SpecAttributes():\n",
    "    \"\"\"\n",
    "    Different from LaptopAttributes, this is specific for creating spec data.\n",
    "    The spec data was gathered from PCPartPicker and is used to create more laptop data.\n",
    "    \"\"\"\n",
    "    video_card = {'GeForce RTX 2070'}\n",
    "    ram = [str(x) + ' GB' for x in range(2, 130, 2)]\n",
    "    hard_drive = [str(x) + ' GB' for x in range(120, 513, 8)] + [str(x) + ' TB' for x in range(1, 8)]\n",
    "    cpu = {}\n",
    "    laptop_brands = ['Lenovo ThinkPad', 'Lenovo ThinkBook', 'Lenovo IdeaPad', 'Lenovo Yoga', 'Lenovo Legion', 'HP Envy', 'HP Chromebook', 'HP Spectre', 'HP ZBook', 'HP Probook', 'HP Elitebook', 'HP Pavilion', 'HP Omen', 'Dell Alienware', 'Dell Vostro', 'Dell Inspiron', 'Dell Latitude', 'Dell XPS', 'Dell G Series', 'Dell Precision', 'Apple Macbook', 'Apple Macbook Air', 'Apple Mac', 'Acer Aspire', 'Acer swift', 'Acer Spin', 'Acer Switch', 'Acer Extensa', 'Acer Travelmate', 'Acer Nitro', 'Acer Enduro', 'Acer Predator', 'Asus ZenBook', 'Asus Vivobook', 'Asus Republic of Gamers', 'Asus ROG', 'Asus TUF GAMING']\n",
    "    \n",
    "    @staticmethod\n",
    "    def get_all_data():\n",
    "        return {\n",
    "            'cpu': SpecAttributes.cpu.keys(),\n",
    "            'ram': SpecAttributes.ram,\n",
    "            'hard_drive': SpecAttributes.hard_drive,\n",
    "            'video_card': SpecAttributes.video_card,\n",
    "            'laptop_brands': SpecAttributes.laptop_brands\n",
    "        }\n"
   ]
  },
  {
   "cell_type": "code",
   "execution_count": 25,
   "metadata": {},
   "outputs": [],
   "source": [
    "def concatenate_spec_data(row):\n",
    "    # Special tags at the end of the amount of inches of the laptop and the RAM to simulate real data\n",
    "    inch_attr = str(row['inches']) + random.choice([' inch', '\"'])\n",
    "    ram_attr = row['ram'] + random.choice([' ram', ' memory'])\n",
    "    \n",
    "    # These are words that commonly come up with laptops\n",
    "    modifiers = ['premium', 'new', 'fast', 'latest model']\n",
    "    add_ins = ['USB 3.0', 'USB 3.1 Type-C', 'USB Type-C', 'Bluetooth', 'WIFI', 'Webcam', 'FP Reader',\n",
    "               'HDMI', '802.11ac', '802.11 ac', 'home', 'flagship', 'business', 'GbE LAN', 'DVD-RW',\n",
    "               'DVD', 'Windows 10']\n",
    "\n",
    "    cpu_attr = row['cpu']\n",
    "    cores = SpecAttributes.cpu[cpu_attr][0]\n",
    "    ghz = SpecAttributes.cpu[cpu_attr][1]\n",
    "    \n",
    "    if random.random() > 0.5:\n",
    "        cpu_attr = cpu_attr.split(' ')\n",
    "        if random.choice([0, 1]):\n",
    "            if 'Intel' in cpu_attr:\n",
    "                cpu_attr.remove('Intel')\n",
    "        if random.choice([0, 1]):\n",
    "            if 'Core' in cpu_attr:\n",
    "                cpu_attr.remove('Core')\n",
    "        if random.choice([0, 1]):\n",
    "            if 'AMD' in cpu_attr:\n",
    "                cpu_attr.remove('AMD')\n",
    "    \n",
    "        cpu_attr = ' '.join(cpu_attr)\n",
    "    \n",
    "    # Random chance of putting the cores in the CPU attribute\n",
    "    if random.random() > 0.7:\n",
    "        cpu_attr = '{} {} {}'.format(cpu_attr, cores, 'Core')\n",
    "    \n",
    "    # Random chance of putting the GHz in the CPU attribute\n",
    "    if random.random() > 0.7:\n",
    "        cpu_attr = '{} {}'.format(cpu_attr, ghz)\n",
    "    \n",
    "    if random.random() > 0.55:\n",
    "        cpu_attr = '{} {}'.format(cpu_attr, 'CPU')\n",
    "    \n",
    "    # Create a list for all the product attributes\n",
    "    order_attrs = [row['company'],\n",
    "                   row['product'],\n",
    "                   inch_attr,\n",
    "                  ]\n",
    "    \n",
    "    spec_attrs = [row['hard_drive'],\n",
    "                  # row['screen'],\n",
    "                   cpu_attr,\n",
    "                   ram_attr\n",
    "                 ]\n",
    "    \n",
    "    random.shuffle(spec_attrs)\n",
    "    order_attrs = order_attrs + spec_attrs\n",
    "    \n",
    "    return ' '.join(order_attrs)"
   ]
  },
  {
   "cell_type": "code",
   "execution_count": 24,
   "metadata": {},
   "outputs": [],
   "source": [
    "# Creates the postive examples for the laptop data\n",
    "# The laptop_df is the original data, the new_df is the dataframe to append the new data to\n",
    "# and the attributes are the attributes to swap or delete for the new data\n",
    "def create_pos_spec_data(df, rm_attrs, add_attrs):\n",
    "    temp = []\n",
    "    df_iloc = df.iloc()\n",
    "    COLUMN_NAMES = ['title_one', 'title_two', 'label']\n",
    "    for row in tqdm(range(int(len(df) * 2.8e-4))):\n",
    "        # Set the new row to the same as the original to begin changing it\n",
    "        new_row = df_iloc[row]\n",
    "\n",
    "        # Get the row in the df and add the inch attribute\n",
    "        orig_row = df_iloc[row]\n",
    "\n",
    "        # Set product and company\n",
    "        orig_row['company'] = orig_row['brand'].split(' ', 1)[0]\n",
    "        orig_row['product'] = orig_row['brand'].split(' ', 1)[1]\n",
    "        new_row['company'] = orig_row['brand'].split(' ', 1)[0]\n",
    "        new_row['product'] = orig_row['brand'].split(' ', 1)[1]\n",
    "\n",
    "        # Get a random inch attribute\n",
    "        inch_attr = random.choice(list(LaptopAttributes.inches))\n",
    "\n",
    "        # Get random screen attribute\n",
    "        # screen_attr = random.choice(list(LaptopAttributes.screen))\n",
    "\n",
    "        # Get random hard drive attribute and type\n",
    "        hard_drive_attr = random.choice(list(SpecAttributes.hard_drive))\n",
    "        \n",
    "        # Get whether it will be an ssd or a hard drive\n",
    "        drive_type = random.choice([hard_drive_types, ssd_types])\n",
    "\n",
    "        # Set the attributes\n",
    "        orig_row['inches'] = inch_attr\n",
    "        # orig_row['screen'] = screen_attr\n",
    "\n",
    "        orig_row['hard_drive'] = '{} {}'.format(hard_drive_attr, random.choice(drive_type))\n",
    "        new_row['inches'] = inch_attr\n",
    "        # new_row['screen'] = screen_attr\n",
    "        new_row['hard_drive'] = '{} {}'.format(hard_drive_attr, random.choice(drive_type))\n",
    "        \n",
    "        for attr_list in rm_attrs:\n",
    "            # Simply create a copy of new_row so that we do not have to keep on generating the same thing\n",
    "            pos_row = new_row.copy()\n",
    "            \n",
    "            for attr in attr_list:\n",
    "                pos_row[attr] = ''\n",
    "        \n",
    "            title_one = remove_stop_words(concatenate_spec_data(orig_row).lower())\n",
    "            title_two = remove_stop_words(concatenate_spec_data(pos_row).lower())\n",
    "    \n",
    "            temp.append([title_one, title_two, 1])\n",
    "    \n",
    "    return pd.DataFrame(temp, columns=COLUMN_NAMES)"
   ]
  },
  {
   "cell_type": "code",
   "execution_count": 23,
   "metadata": {},
   "outputs": [],
   "source": [
    "# Creates the negative examples for the laptop data\n",
    "# The laptop_df is the original data, the new_df is the dataframe to append the new data to\n",
    "# and the attributes are the attributes to swap for the new data\n",
    "def create_neg_spec_laptop(df, attributes):\n",
    "    df_iloc = df.iloc()\n",
    "    temp = []\n",
    "    for row in tqdm(range(int(len(df) * 1.91e-4))):\n",
    "        # Create a copy of the row for the negative example\n",
    "        for attribute_class in attributes:\n",
    "            neg_row = df_iloc[row]\n",
    "            # Get the row in the laptop_data and add the inch attribute\n",
    "            orig_row = df_iloc[row]\n",
    "            \n",
    "            # Set product and company\n",
    "            orig_row['company'] = orig_row['brand'].split(' ', 1)[0]\n",
    "            orig_row['product'] = orig_row['brand'].split(' ', 1)[1]\n",
    "            neg_row['company'] = orig_row['brand'].split(' ', 1)[0]\n",
    "            neg_row['product'] = orig_row['brand'].split(' ', 1)[1]\n",
    "            \n",
    "            # Get a random inch attribute\n",
    "            inch_attr = random.choice(list(LaptopAttributes.inches))\n",
    "            \n",
    "            # Get random screen attribute\n",
    "            # screen_attr = random.choice(list(LaptopAttributes.screen))\n",
    "            \n",
    "            # Set the attributes\n",
    "            orig_row['inches'] = inch_attr\n",
    "            neg_row['inches'] = inch_attr\n",
    "            # orig_row['screen'] = screen_attr\n",
    "            # neg_row['screen'] = screen_attr\n",
    "            \n",
    "            if attribute_class == 'inches':\n",
    "                # New inch attribute\n",
    "                new_inch_attr = inch_attr\n",
    "\n",
    "                # If the original attribute is still the same, keep getting a random one\n",
    "                while inch_attr == new_inch_attr:\n",
    "                    new_inch_attr = random.choice(list(LaptopAttributes.inches))\n",
    "                \n",
    "                neg_row['inches'] = new_inch_attr\n",
    "            \n",
    "            elif attribute_class == 'screen':\n",
    "                # Have screen attr\n",
    "                orig_screen_attr = random.choice(list(LaptopAttributes.screen))\n",
    "                \n",
    "                # New screen attribute\n",
    "                new_screen_attr = screen_attr\n",
    "                \n",
    "                # If the original attribute is still the same, keep getting a random one\n",
    "                while orig_screen_attr == new_screen_attr:\n",
    "                    new_screen_attr = random.choice(list(LaptopAttributes.screen))\n",
    "                \n",
    "                neg_row['screen'] = new_screen_attr\n",
    "                orig_row['screen'] = orig_screen_attr\n",
    "            \n",
    "            elif attribute_class == 'product':\n",
    "                # New product attr\n",
    "                new_product_attr = orig_row['product']\n",
    "                \n",
    "                # If the original attribute is still the same, keep getting a random one\n",
    "                while orig_row['product'] == new_product_attr:\n",
    "                    new_product_attr = random.choice(SpecAttributes.laptop_brands).split(' ', 1)[1]\n",
    "                \n",
    "                neg_row['product'] = new_product_attr\n",
    "            \n",
    "            elif attribute_class == 'hard_drive':\n",
    "                # New drive attribute\n",
    "                new_drive_attr = orig_row['hard_drive']\n",
    "                \n",
    "                # If the original attribute is still the same, keep getting a random one\n",
    "                while orig_row['hard_drive'] == new_drive_attr:\n",
    "                    new_drive_attr = random.choice(SpecAttributes.hard_drive)\n",
    "                \n",
    "                neg_row['hard_drive'] = '{} {}'.format(new_drive_attr, random.choice([random.choice(hard_drive_types), random.choice(ssd_types)]))\n",
    "                orig_row['hard_drive'] = '{} {}'.format(orig_row['hard_drive'], random.choice([random.choice(hard_drive_types), random.choice(ssd_types)]))\n",
    "            \n",
    "            else:\n",
    "                # Get the attribute that we are trying to change\n",
    "                attribute_val = orig_row[attribute_class]\n",
    "\n",
    "                # Temporarily value for the new value\n",
    "                new_val = attribute_val\n",
    "\n",
    "                # Make sure we really get a new attribute\n",
    "                while new_val == attribute_val:\n",
    "                    new_val = random.sample(SpecAttributes.get_all_data()[attribute_class.lower()], 1)[0]\n",
    "\n",
    "                # Change the value in the neg_row to the new value\n",
    "                neg_row[attribute_class] = new_val\n",
    "            \n",
    "            # We still need to add the phrasing to the hard drive attribute if it is not the current attribute class\n",
    "            if attribute_class != 'hard_drive':\n",
    "                drive_type = random.choice([random.choice(hard_drive_types), random.choice(ssd_types)])\n",
    "                neg_row['hard_drive'] = '{} {}'.format(neg_row['hard_drive'], drive_type)\n",
    "                orig_row['hard_drive'] = '{} {}'.format(orig_row['hard_drive'], drive_type)\n",
    "            \n",
    "            # Concatenate and normalize the data\n",
    "            title_one = remove_stop_words(concatenate_spec_data(orig_row).lower())\n",
    "            title_two = remove_stop_words(concatenate_spec_data(neg_row).lower())\n",
    "            \n",
    "            # Append the data to the temp list\n",
    "            temp.append([title_one, title_two, 0])\n",
    "\n",
    "    # Return the DataFrame created from temp\n",
    "    return pd.DataFrame(temp, columns=COLUMN_NAMES)"
   ]
  },
  {
   "cell_type": "code",
   "execution_count": 17,
   "metadata": {},
   "outputs": [],
   "source": [
    "def populate_spec():\n",
    "    # Getting the CPU data into SpecAttrbutes\n",
    "    cpu_df = pd.read_csv('data/train/cpu_data.csv')\n",
    "    temp_iloc = cpu_df.iloc()\n",
    "    for idx in range(len(cpu_df)):\n",
    "        row = temp_iloc[idx]\n",
    "        SpecAttributes.cpu[row['name']] = [row['cores'], row['core_clock']]\n",
    "\n",
    "#     # Getting the video card data into SpecAttributes\n",
    "#     video_card_df = pd.read_csv('data/train/video-cards-data.csv')\n",
    "#     temp_iloc = video_card_df.iloc()\n",
    "#     for idx in range(len(video_card_df)):\n",
    "#         row = temp_iloc[idx]\n",
    "#         SpecAttributes.video_card.update([row['chipset']])"
   ]
  },
  {
   "cell_type": "code",
   "execution_count": 18,
   "metadata": {},
   "outputs": [],
   "source": [
    "def gen_spec_combos():\n",
    "    # Generates combinations of the spec data (WARNING: THIS TAKES A VERY LONG TIME AND YOU MUST HAVE AT LEAST 16GB RAM TO DO THIS)\n",
    "    combos = np.meshgrid(*[SpecAttributes.laptop_brands, list(SpecAttributes.cpu.keys()), SpecAttributes.hard_drive, SpecAttributes.ram])\n",
    "    combos = np.array(combos).T.reshape(-1, 4)\n",
    "    np.random.shuffle(combos)\n",
    "    df = pd.DataFrame(data=combos, columns=['brand', 'cpu', 'hard_drive', 'ram'])\n",
    "    df.to_csv('data/train/spec_data.csv')"
   ]
  },
  {
   "cell_type": "code",
   "execution_count": 22,
   "metadata": {},
   "outputs": [
    {
     "name": "stdout",
     "output_type": "stream",
     "text": [
      "Generating general spec data for laptops . . . \n"
     ]
    },
    {
     "name": "stderr",
     "output_type": "stream",
     "text": [
      "100%|██████████| 3665/3665 [00:14<00:00, 247.00it/s]\n",
      "100%|██████████| 2500/2500 [00:45<00:00, 55.08it/s]\n"
     ]
    },
    {
     "name": "stdout",
     "output_type": "stream",
     "text": [
      "14660\n"
     ]
    }
   ],
   "source": [
    "def create_spec_laptop_data():\n",
    "    file_path = 'data/train/spec_train_data.csv'\n",
    "    if not os.path.exists(file_path):\n",
    "        print('Generating general spec data for laptops . . . ')\n",
    "        populate_spec()\n",
    "        if not os.path.exists('data/train/spec_data.csv'):\n",
    "            print('Generating spec data combinations. WARNING: THIS WILL CONSUME RESOURCES AND TAKE A LONG TIME.')\n",
    "            gen_spec_combos()\n",
    "        spec_df = pd.read_csv('data/train/spec_data.csv')\n",
    "        pos_df = spec_pos_df = create_pos_spec_data(spec_df, rm_attrs = [['company'], ['product']], add_attrs = [])\n",
    "        neg_df = create_neg_spec_laptop(spec_df, ['cpu', 'ram', 'hard_drive', 'product', 'inches'])\n",
    "        final_spec_df = create_final_data(pos_df, neg_df)\n",
    "        print(len(final_spec_df))\n",
    "        final_spec_df.to_csv(file_path)\n",
    "\n",
    "    else:\n",
    "        print('Already have spec data. Moving on . . .')\n",
    "\n",
    "create_spec_laptop_data()"
   ]
  },
  {
   "cell_type": "code",
   "execution_count": 64,
   "metadata": {},
   "outputs": [],
   "source": [
    "spec_df = pd.read_csv('data/train/spec_data.csv')"
   ]
  },
  {
   "cell_type": "code",
   "execution_count": 68,
   "metadata": {},
   "outputs": [],
   "source": [
    "populate_spec()"
   ]
  },
  {
   "cell_type": "code",
   "execution_count": 95,
   "metadata": {},
   "outputs": [
    {
     "name": "stderr",
     "output_type": "stream",
     "text": [
      "100%|████████████████████████████████████████████████████████████| 2500/2500 [01:16<00:00, 32.83it/s]\n"
     ]
    }
   ],
   "source": [
    "spec_neg_df = create_neg_spec_laptop(spec_df, ['cpu', 'ram', 'hard_drive', 'product', 'inches'])"
   ]
  },
  {
   "cell_type": "code",
   "execution_count": 96,
   "metadata": {},
   "outputs": [
    {
     "name": "stdout",
     "output_type": "stream",
     "text": [
      "dell vostro 10 1 inch core i7 10700kf 3 8 ghz 26 gb ram 160 gb internal hard drive\n",
      "dell vostro 10 1\" intel core i9 10900kf 3 7 ghz 160 gb internal hard drive 26 gb memory\n"
     ]
    }
   ],
   "source": [
    "print(spec_neg_df.iloc[500].title_one)\n",
    "print(spec_neg_df.iloc[500].title_two)"
   ]
  },
  {
   "cell_type": "code",
   "execution_count": 99,
   "metadata": {},
   "outputs": [
    {
     "name": "stderr",
     "output_type": "stream",
     "text": [
      "100%|███████████████████████████████████████████████████████████| 3011/3011 [00:21<00:00, 139.47it/s]\n"
     ]
    }
   ],
   "source": [
    "spec_pos_df = create_pos_spec_data(spec_df, rm_attrs = [['company'], ['product']], add_attrs = [])"
   ]
  },
  {
   "cell_type": "code",
   "execution_count": 101,
   "metadata": {},
   "outputs": [
    {
     "name": "stdout",
     "output_type": "stream",
     "text": [
      "dell latitude 14 0 inch 78 gb ram intel core i5 7400 4 core cpu 208 gb hard drive\n",
      "latitude 14 0 inch intel core i5 7400 3 ghz 78 gb memory 208 gb hard drive\n"
     ]
    }
   ],
   "source": [
    "print(spec_pos_df.iloc[5000].title_one)\n",
    "print(spec_pos_df.iloc[5000].title_two)"
   ]
  },
  {
   "cell_type": "code",
   "execution_count": null,
   "metadata": {},
   "outputs": [],
   "source": []
  },
  {
   "cell_type": "code",
   "execution_count": 107,
   "metadata": {},
   "outputs": [],
   "source": [
    "final_laptop_df = pd.read_csv('data/train/final_laptop_data.csv')"
   ]
  },
  {
   "cell_type": "code",
   "execution_count": 108,
   "metadata": {},
   "outputs": [],
   "source": [
    "final_spec_df = pd.read_csv('data/train/spec_train_data.csv')"
   ]
  },
  {
   "cell_type": "code",
   "execution_count": 109,
   "metadata": {},
   "outputs": [
    {
     "name": "stdout",
     "output_type": "stream",
     "text": [
      "7818\n",
      "12044\n"
     ]
    }
   ],
   "source": [
    "print(len(final_laptop_df))\n",
    "print(len(final_spec_df))"
   ]
  },
  {
   "cell_type": "code",
   "execution_count": null,
   "metadata": {},
   "outputs": [],
   "source": []
  }
 ],
 "metadata": {
  "kernelspec": {
   "display_name": "Python 3",
   "language": "python",
   "name": "python3"
  }
 },
 "nbformat": 4,
 "nbformat_minor": 4
}
