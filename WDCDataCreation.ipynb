{
 "cells": [
  {
   "cell_type": "code",
   "execution_count": 435,
   "metadata": {},
   "outputs": [],
   "source": [
    "import os\n",
    "import sys\n",
    "import pandas as pd\n",
    "import numpy as np\n",
    "import math\n",
    "import random\n",
    "from gensim import corpora\n",
    "from gensim.similarities import SparseMatrixSimilarity\n",
    "from src.preprocessing import remove_stop_words"
   ]
  },
  {
   "cell_type": "markdown",
   "metadata": {},
   "source": [
    "## Loading/Preprocessing Data"
   ]
  },
  {
   "cell_type": "code",
   "execution_count": 22,
   "metadata": {},
   "outputs": [],
   "source": [
    "def chunk_data():\n",
    "    chunk_size = 100000\n",
    "    batch = 1\n",
    "    for chunk in pd.read_json('data/base/offers_corpus_english_v2.json', lines=True, nrows= 100000000000000, chunksize=chunk_size):\n",
    "        chunk.to_json('data/base/product_corpus/chunk' + str(batch) + '.json')\n",
    "        batch += 1"
   ]
  },
  {
   "cell_type": "code",
   "execution_count": 23,
   "metadata": {},
   "outputs": [],
   "source": [
    "def generate_computer_data():\n",
    "    chunk_size = 100000\n",
    "    computer_df = pd.DataFrame()\n",
    "    for chunk in pd.read_json('data/base/offers_corpus_english_v2.json', lines=True, nrows= 100000000000000, chunksize=chunk_size):\n",
    "        computer_df = computer_df.append(chunk[chunk['category'].values == 'Computers_and_Accessories'])\n",
    "    return computer_df"
   ]
  },
  {
   "cell_type": "code",
   "execution_count": 134,
   "metadata": {},
   "outputs": [],
   "source": [
    "def get_pos_clusters(df):\n",
    "    MAX_CLUSTER_SIZE = 80\n",
    "    valid_clusters = (((df['cluster_id'].value_counts() > 1) & \n",
    "                        (df['cluster_id'].value_counts() <= MAX_CLUSTER_SIZE)))\n",
    "\n",
    "    valid_clusters = list(valid_clusters[valid_clusters == True].index)\n",
    "    all_clusters = df[df['cluster_id'].isin(valid_clusters)]['cluster_id'].values\n",
    "    return set(all_clusters)"
   ]
  },
  {
   "cell_type": "code",
   "execution_count": 178,
   "metadata": {},
   "outputs": [],
   "source": [
    "def extract_key_features_OLD(computer_df):\n",
    "    left = computer_df[['id_left', 'title_left',\n",
    "                        'description_left', 'cluster_id_left']]\n",
    "    right = computer_df[['id_right', 'title_right',\n",
    "                         'description_right', 'cluster_id_right']]\n",
    "\n",
    "    left = left.rename(columns={'id_left': 'id', \n",
    "                        'title_left': 'title',\n",
    "                        'description_left': 'description',\n",
    "                        'cluster_id_left': 'cluster_id'\n",
    "                       })\n",
    "    \n",
    "    right = right.rename(columns={'id_right': 'id',\n",
    "                          'title_right': 'title',\n",
    "                          'description_right': 'description',\n",
    "                          'cluster_id_right': 'cluster_id'\n",
    "                         })\n",
    "    \n",
    "    ret = left.append(right)\n",
    "    ret = ret.drop_duplicates(subset=['id'])\n",
    "    \n",
    "    return ret"
   ]
  },
  {
   "cell_type": "code",
   "execution_count": 15,
   "metadata": {},
   "outputs": [],
   "source": [
    "computer_df = pd.read_csv('data/base/computer_wdc_whole_no_duplicates.csv')"
   ]
  },
  {
   "cell_type": "code",
   "execution_count": 10,
   "metadata": {},
   "outputs": [],
   "source": [
    "computer_df = computer_df.drop_duplicates('title')"
   ]
  },
  {
   "cell_type": "code",
   "execution_count": 4,
   "metadata": {
    "scrolled": false
   },
   "outputs": [
    {
     "data": {
      "text/html": [
       "<div>\n",
       "<style scoped>\n",
       "    .dataframe tbody tr th:only-of-type {\n",
       "        vertical-align: middle;\n",
       "    }\n",
       "\n",
       "    .dataframe tbody tr th {\n",
       "        vertical-align: top;\n",
       "    }\n",
       "\n",
       "    .dataframe thead th {\n",
       "        text-align: right;\n",
       "    }\n",
       "</style>\n",
       "<table border=\"1\" class=\"dataframe\">\n",
       "  <thead>\n",
       "    <tr style=\"text-align: right;\">\n",
       "      <th></th>\n",
       "      <th>brand</th>\n",
       "      <th>category</th>\n",
       "      <th>cluster_id</th>\n",
       "      <th>description</th>\n",
       "      <th>id</th>\n",
       "      <th>identifiers</th>\n",
       "      <th>keyValuePairs</th>\n",
       "      <th>price</th>\n",
       "      <th>specTableContent</th>\n",
       "      <th>title</th>\n",
       "    </tr>\n",
       "  </thead>\n",
       "  <tbody>\n",
       "    <tr>\n",
       "      <th>0</th>\n",
       "      <td>NaN</td>\n",
       "      <td>Computers_and_Accessories</td>\n",
       "      <td>1554982</td>\n",
       "      <td>NaN</td>\n",
       "      <td>41</td>\n",
       "      <td>[{'/mpn': '[nxm81eh034]'}, {'/gtin13': '[47131...</td>\n",
       "      <td>{'categorie': 'laptops', 'merk': 'acer', 'prod...</td>\n",
       "      <td>NaN</td>\n",
       "      <td>categorie laptops merk acer productserie aspir...</td>\n",
       "      <td>acer aspire e1 522 65208g1tmnkk specificaties ...</td>\n",
       "    </tr>\n",
       "    <tr>\n",
       "      <th>1</th>\n",
       "      <td>NaN</td>\n",
       "      <td>Computers_and_Accessories</td>\n",
       "      <td>15189423</td>\n",
       "      <td>description</td>\n",
       "      <td>55</td>\n",
       "      <td>[{'/productID': '[k1009900]'}]</td>\n",
       "      <td>NaN</td>\n",
       "      <td>NaN</td>\n",
       "      <td>NaN</td>\n",
       "      <td>kohler lavatory bonnet 1009900 bn ferguson</td>\n",
       "    </tr>\n",
       "    <tr>\n",
       "      <th>2</th>\n",
       "      <td>hp enterprise</td>\n",
       "      <td>Computers_and_Accessories</td>\n",
       "      <td>14583973</td>\n",
       "      <td>description hp third party rackmount option ki...</td>\n",
       "      <td>72</td>\n",
       "      <td>[{'/sku': '[231122b21]'}, {'/mpn': '[231122b21...</td>\n",
       "      <td>{'category': 'hp option', 'sub category': 'rac...</td>\n",
       "      <td>NaN</td>\n",
       "      <td>specifications category hp option sub category...</td>\n",
       "      <td>null , 231122 b21 hp 3rd party rail kit ml370 ...</td>\n",
       "    </tr>\n",
       "    <tr>\n",
       "      <th>3</th>\n",
       "      <td>hp enterprise</td>\n",
       "      <td>Computers_and_Accessories</td>\n",
       "      <td>3859891</td>\n",
       "      <td>description hp proliant dl380 g6 rack mountabl...</td>\n",
       "      <td>75</td>\n",
       "      <td>[{'/sku': '[491505001]'}]</td>\n",
       "      <td>NaN</td>\n",
       "      <td>NaN</td>\n",
       "      <td>NaN</td>\n",
       "      <td>null , 491505 001 hp dl380 g6 e5504 2 00ghz 4g...</td>\n",
       "    </tr>\n",
       "    <tr>\n",
       "      <th>4</th>\n",
       "      <td>NaN</td>\n",
       "      <td>Computers_and_Accessories</td>\n",
       "      <td>10106149</td>\n",
       "      <td>NaN</td>\n",
       "      <td>91</td>\n",
       "      <td>[{'/mpn': '[ds1010c101]'}]</td>\n",
       "      <td>NaN</td>\n",
       "      <td>NaN</td>\n",
       "      <td>NaN</td>\n",
       "      <td>ds1010c 101</td>\n",
       "    </tr>\n",
       "    <tr>\n",
       "      <th>...</th>\n",
       "      <td>...</td>\n",
       "      <td>...</td>\n",
       "      <td>...</td>\n",
       "      <td>...</td>\n",
       "      <td>...</td>\n",
       "      <td>...</td>\n",
       "      <td>...</td>\n",
       "      <td>...</td>\n",
       "      <td>...</td>\n",
       "      <td>...</td>\n",
       "    </tr>\n",
       "    <tr>\n",
       "      <th>432616</th>\n",
       "      <td>NaN</td>\n",
       "      <td>Computers_and_Accessories</td>\n",
       "      <td>16080620</td>\n",
       "      <td>\"                                             ...</td>\n",
       "      <td>17557404</td>\n",
       "      <td>[{'/productID': '[5403739000]'}]</td>\n",
       "      <td>NaN</td>\n",
       "      <td>NaN</td>\n",
       "      <td>NaN</td>\n",
       "      <td>\"Acer Swift 1 SF113-31-P4A2 Pink \"@de</td>\n",
       "    </tr>\n",
       "    <tr>\n",
       "      <th>432617</th>\n",
       "      <td>NaN</td>\n",
       "      <td>Computers_and_Accessories</td>\n",
       "      <td>4750388</td>\n",
       "      <td>NaN</td>\n",
       "      <td>17557407</td>\n",
       "      <td>[{'/gtin12': '[888462794961]'}]</td>\n",
       "      <td>NaN</td>\n",
       "      <td>NaN</td>\n",
       "      <td>NaN</td>\n",
       "      <td>\"Apple MJYR2LL/A Smart Keyboard for 12.9-inch ...</td>\n",
       "    </tr>\n",
       "    <tr>\n",
       "      <th>432618</th>\n",
       "      <td>NaN</td>\n",
       "      <td>Computers_and_Accessories</td>\n",
       "      <td>518797</td>\n",
       "      <td>\"Unfold the full-size Smart Keyboard when you ...</td>\n",
       "      <td>17557412</td>\n",
       "      <td>[{'/mpn': '[mptl2lla]'}]</td>\n",
       "      <td>NaN</td>\n",
       "      <td>NaN</td>\n",
       "      <td>NaN</td>\n",
       "      <td>\"Apple - Smart Keyboard for 10.5-inch iPad Pro...</td>\n",
       "    </tr>\n",
       "    <tr>\n",
       "      <th>432619</th>\n",
       "      <td>\"Apple\"</td>\n",
       "      <td>Computers_and_Accessories</td>\n",
       "      <td>13868227</td>\n",
       "      <td>\"11.6-inch LED-backlit glossy widescreen TFT d...</td>\n",
       "      <td>17557460</td>\n",
       "      <td>[{'/mpn': '[mjvm2lla]'}]</td>\n",
       "      <td>NaN</td>\n",
       "      <td>NaN</td>\n",
       "      <td>NaN</td>\n",
       "      <td>\"Macbook Air 11.6-inch (Glossy) 1.6GHZ Dual Co...</td>\n",
       "    </tr>\n",
       "    <tr>\n",
       "      <th>432620</th>\n",
       "      <td>\"SanDisk\"</td>\n",
       "      <td>Computers_and_Accessories</td>\n",
       "      <td>11687168</td>\n",
       "      <td>NaN</td>\n",
       "      <td>17557494</td>\n",
       "      <td>[{'/sku': '[sdsdquan200ga4a]'}]</td>\n",
       "      <td>NaN</td>\n",
       "      <td>usd 56 43</td>\n",
       "      <td>NaN</td>\n",
       "      <td>\"200GB Ultra UHS-I microSDXC Memory Card (Clas...</td>\n",
       "    </tr>\n",
       "  </tbody>\n",
       "</table>\n",
       "<p>432621 rows × 10 columns</p>\n",
       "</div>"
      ],
      "text/plain": [
       "                brand                   category  cluster_id  \\\n",
       "0                 NaN  Computers_and_Accessories     1554982   \n",
       "1                 NaN  Computers_and_Accessories    15189423   \n",
       "2       hp enterprise  Computers_and_Accessories    14583973   \n",
       "3       hp enterprise  Computers_and_Accessories     3859891   \n",
       "4                 NaN  Computers_and_Accessories    10106149   \n",
       "...               ...                        ...         ...   \n",
       "432616            NaN  Computers_and_Accessories    16080620   \n",
       "432617            NaN  Computers_and_Accessories     4750388   \n",
       "432618            NaN  Computers_and_Accessories      518797   \n",
       "432619        \"Apple\"  Computers_and_Accessories    13868227   \n",
       "432620      \"SanDisk\"  Computers_and_Accessories    11687168   \n",
       "\n",
       "                                              description        id  \\\n",
       "0                                                     NaN        41   \n",
       "1                                             description        55   \n",
       "2       description hp third party rackmount option ki...        72   \n",
       "3       description hp proliant dl380 g6 rack mountabl...        75   \n",
       "4                                                     NaN        91   \n",
       "...                                                   ...       ...   \n",
       "432616  \"                                             ...  17557404   \n",
       "432617                                                NaN  17557407   \n",
       "432618  \"Unfold the full-size Smart Keyboard when you ...  17557412   \n",
       "432619  \"11.6-inch LED-backlit glossy widescreen TFT d...  17557460   \n",
       "432620                                                NaN  17557494   \n",
       "\n",
       "                                              identifiers  \\\n",
       "0       [{'/mpn': '[nxm81eh034]'}, {'/gtin13': '[47131...   \n",
       "1                          [{'/productID': '[k1009900]'}]   \n",
       "2       [{'/sku': '[231122b21]'}, {'/mpn': '[231122b21...   \n",
       "3                               [{'/sku': '[491505001]'}]   \n",
       "4                              [{'/mpn': '[ds1010c101]'}]   \n",
       "...                                                   ...   \n",
       "432616                   [{'/productID': '[5403739000]'}]   \n",
       "432617                    [{'/gtin12': '[888462794961]'}]   \n",
       "432618                           [{'/mpn': '[mptl2lla]'}]   \n",
       "432619                           [{'/mpn': '[mjvm2lla]'}]   \n",
       "432620                    [{'/sku': '[sdsdquan200ga4a]'}]   \n",
       "\n",
       "                                            keyValuePairs      price  \\\n",
       "0       {'categorie': 'laptops', 'merk': 'acer', 'prod...        NaN   \n",
       "1                                                     NaN        NaN   \n",
       "2       {'category': 'hp option', 'sub category': 'rac...        NaN   \n",
       "3                                                     NaN        NaN   \n",
       "4                                                     NaN        NaN   \n",
       "...                                                   ...        ...   \n",
       "432616                                                NaN        NaN   \n",
       "432617                                                NaN        NaN   \n",
       "432618                                                NaN        NaN   \n",
       "432619                                                NaN        NaN   \n",
       "432620                                                NaN  usd 56 43   \n",
       "\n",
       "                                         specTableContent  \\\n",
       "0       categorie laptops merk acer productserie aspir...   \n",
       "1                                                     NaN   \n",
       "2       specifications category hp option sub category...   \n",
       "3                                                     NaN   \n",
       "4                                                     NaN   \n",
       "...                                                   ...   \n",
       "432616                                                NaN   \n",
       "432617                                                NaN   \n",
       "432618                                                NaN   \n",
       "432619                                                NaN   \n",
       "432620                                                NaN   \n",
       "\n",
       "                                                    title  \n",
       "0       acer aspire e1 522 65208g1tmnkk specificaties ...  \n",
       "1              kohler lavatory bonnet 1009900 bn ferguson  \n",
       "2       null , 231122 b21 hp 3rd party rail kit ml370 ...  \n",
       "3       null , 491505 001 hp dl380 g6 e5504 2 00ghz 4g...  \n",
       "4                                             ds1010c 101  \n",
       "...                                                   ...  \n",
       "432616              \"Acer Swift 1 SF113-31-P4A2 Pink \"@de  \n",
       "432617  \"Apple MJYR2LL/A Smart Keyboard for 12.9-inch ...  \n",
       "432618  \"Apple - Smart Keyboard for 10.5-inch iPad Pro...  \n",
       "432619  \"Macbook Air 11.6-inch (Glossy) 1.6GHZ Dual Co...  \n",
       "432620  \"200GB Ultra UHS-I microSDXC Memory Card (Clas...  \n",
       "\n",
       "[432621 rows x 10 columns]"
      ]
     },
     "execution_count": 4,
     "metadata": {},
     "output_type": "execute_result"
    }
   ],
   "source": [
    "computer_df"
   ]
  },
  {
   "cell_type": "code",
   "execution_count": 16,
   "metadata": {},
   "outputs": [],
   "source": [
    "all_clusters = set(computer_df['cluster_id'].values)"
   ]
  },
  {
   "cell_type": "code",
   "execution_count": 127,
   "metadata": {},
   "outputs": [
    {
     "name": "stdout",
     "output_type": "stream",
     "text": [
      "52530\n"
     ]
    }
   ],
   "source": [
    "num = 0\n",
    "for cluster in all_clusters:\n",
    "    if len(computer_df.loc[computer_df['cluster_id'].values == cluster]) >= 2 and len(computer_df.loc[computer_df['cluster_id'].values == cluster]) < 80:\n",
    "        num += 1\n",
    "\n",
    "print(num)"
   ]
  },
  {
   "cell_type": "code",
   "execution_count": 252,
   "metadata": {},
   "outputs": [
    {
     "data": {
      "text/plain": [
       "295932"
      ]
     },
     "execution_count": 252,
     "metadata": {},
     "output_type": "execute_result"
    }
   ],
   "source": [
    "len(all_clusters)"
   ]
  },
  {
   "cell_type": "markdown",
   "metadata": {},
   "source": [
    "## Building Dictionary and Similarity"
   ]
  },
  {
   "cell_type": "code",
   "execution_count": 415,
   "metadata": {},
   "outputs": [],
   "source": [
    "def extract_key_features(cluster):\n",
    "    new_cluster = cluster.loc[:, (\"id\", \"description\", \"title\")]\n",
    "    new_cluster[\"title\"] = new_cluster[\"title\"].map(lambda x: remove_stop_words(x))\n",
    "    new_cluster[\"description\"] = new_cluster[\"description\"].map(lambda x: remove_stop_words(x))\n",
    "    new_cluster[\"titleDesc\"] = new_cluster[\"title\"].map(lambda x: x.split(\" \")) + new_cluster[\"description\"].map(lambda x: x.split(\" \")).map(lambda x: x[0:6])\n",
    "    return new_cluster"
   ]
  },
  {
   "cell_type": "code",
   "execution_count": 416,
   "metadata": {},
   "outputs": [],
   "source": [
    "pos_clusters = list(get_pos_clusters(computer_df))"
   ]
  },
  {
   "cell_type": "code",
   "execution_count": 417,
   "metadata": {},
   "outputs": [],
   "source": [
    "cluster = computer_df.loc[computer_df[\"cluster_id\"].values == pos_clusters[0]].copy()"
   ]
  },
  {
   "cell_type": "code",
   "execution_count": 418,
   "metadata": {},
   "outputs": [],
   "source": [
    "cluster = extract_key_features(cluster)"
   ]
  },
  {
   "cell_type": "code",
   "execution_count": 419,
   "metadata": {},
   "outputs": [],
   "source": [
    "dictionary = corpora.Dictionary(cluster[\"titleDesc\"])"
   ]
  },
  {
   "cell_type": "code",
   "execution_count": 420,
   "metadata": {},
   "outputs": [],
   "source": [
    "cluster_dict = [dictionary.doc2bow(title) for title in cluster[\"title\"].map(lambda x: x.split(\" \"))]"
   ]
  },
  {
   "cell_type": "code",
   "execution_count": 421,
   "metadata": {},
   "outputs": [],
   "source": [
    "index = SparseMatrixSimilarity(cluster_dict, num_features=len(dictionary))"
   ]
  },
  {
   "cell_type": "code",
   "execution_count": 422,
   "metadata": {},
   "outputs": [
    {
     "data": {
      "text/plain": [
       "array([[1.        , 0.87705797, 0.7526177 , 0.76271284],\n",
       "       [0.87705797, 1.0000001 , 0.8581164 , 0.71151245],\n",
       "       [0.7526177 , 0.8581164 , 1.0000001 , 0.8291561 ],\n",
       "       [0.76271284, 0.71151245, 0.8291561 , 1.        ]], dtype=float32)"
      ]
     },
     "execution_count": 422,
     "metadata": {},
     "output_type": "execute_result"
    }
   ],
   "source": [
    "index[cluster_dict]"
   ]
  },
  {
   "cell_type": "code",
   "execution_count": 355,
   "metadata": {},
   "outputs": [],
   "source": [
    "def combinations(total, choose):\n",
    "    return int(math.factorial(total) / (math.factorial(choose) * math.factorial(total - choose)))"
   ]
  },
  {
   "cell_type": "code",
   "execution_count": 487,
   "metadata": {},
   "outputs": [],
   "source": [
    "def create_pos_data(data, cluster_id):\n",
    "    MAX_PAIRS = 16\n",
    "    cluster = data.loc[data[\"cluster_id\"].values == cluster_id]\n",
    "    cluster = extract_key_features(cluster)\n",
    "    max_combos = combinations(len(cluster), 2)\n",
    "    \n",
    "    dictionary = corpora.Dictionary(cluster[\"titleDesc\"])\n",
    "    cluster_dict = [dictionary.doc2bow(title) for title in cluster[\"title\"].map(lambda x: x.split(\" \"))]\n",
    "    sim_matrix = np.array(SparseMatrixSimilarity(cluster_dict, num_features=len(dictionary)))\n",
    "    \n",
    "    for row in range(sim_matrix.shape[0]):\n",
    "        for column in range(sim_matrix.shape[1]):\n",
    "            if (row >= column):\n",
    "                sim_matrix[row][column] = 100\n",
    "        \n",
    "    if max_combos < MAX_PAIRS:\n",
    "        MAX_PAIRS = max_combos\n",
    "    \n",
    "    hard_pos = MAX_PAIRS // 2\n",
    "    random_pos = MAX_PAIRS - hard_pos\n",
    "    \n",
    "    pairs = []\n",
    "    for x in range(hard_pos):\n",
    "        min_sim = np.unravel_index(sim_matrix.argmin(), sim_matrix.shape)\n",
    "        pair = [cluster[\"title\"].iloc[min_sim[0]], cluster[\"title\"].iloc[min_sim[1]], 1]\n",
    "        pairs.append(pair)\n",
    "        sim_matrix[min_sim[0]][min_sim[1]] = 100\n",
    "    \n",
    "    avail_indices = np.argwhere(sim_matrix != 100)\n",
    "    for x in range(random_pos):\n",
    "        print(avail_indices)\n",
    "        ran_idx = random.sample(list(range(len(avail_indices))), 1)\n",
    "        choice = avail_indices[ran_idx][0]\n",
    "        pair = [cluster[\"title\"].iloc[choice[0]],\n",
    "                cluster[\"title\"].iloc[choice[1]], 1]\n",
    "        pairs.append(pair)\n",
    "        avail_indices = np.delete(avail_indices, ran_idx, 0)\n",
    "    \n",
    "    return pairs"
   ]
  },
  {
   "cell_type": "code",
   "execution_count": 488,
   "metadata": {},
   "outputs": [
    {
     "name": "stdout",
     "output_type": "stream",
     "text": [
      "[[0 1]\n",
      " [1 2]\n",
      " [2 3]]\n",
      "[[1 2]\n",
      " [2 3]]\n",
      "[[2 3]]\n"
     ]
    },
    {
     "data": {
      "text/plain": [
       "[['cx 2g10 300 emc gb 10k 3 5 fc al',\n",
       "  'cx 2g10 300 emc gb 2gb 10k 3 5 fc hdd 2 pack wholesale price 2pack',\n",
       "  1],\n",
       " ['cx 2g10 300 emc gb 10k 3 5 fc al new wholesale price',\n",
       "  'cx 2g10 300 emc gb 2gb 10k 3 5 fc hdd',\n",
       "  1],\n",
       " ['cx 2g10 300 emc gb 10k 3 5 fc al new wholesale price',\n",
       "  'cx 2g10 300 emc gb 2gb 10k 3 5 fc hdd 2 pack wholesale price 2pack',\n",
       "  1],\n",
       " ['cx 2g10 300 emc gb 10k 3 5 fc al new wholesale price',\n",
       "  'cx 2g10 300 emc gb 10k 3 5 fc al',\n",
       "  1],\n",
       " ['cx 2g10 300 emc gb 10k 3 5 fc al',\n",
       "  'cx 2g10 300 emc gb 2gb 10k 3 5 fc hdd',\n",
       "  1],\n",
       " ['cx 2g10 300 emc gb 2gb 10k 3 5 fc hdd',\n",
       "  'cx 2g10 300 emc gb 2gb 10k 3 5 fc hdd 2 pack wholesale price 2pack',\n",
       "  1]]"
      ]
     },
     "execution_count": 488,
     "metadata": {},
     "output_type": "execute_result"
    }
   ],
   "source": [
    "create_pos_data(computer_df, 131074)"
   ]
  },
  {
   "cell_type": "code",
   "execution_count": 408,
   "metadata": {},
   "outputs": [
    {
     "data": {
      "text/plain": [
       "11736     cx 2g10 300 emc gb 10k 3 5 fc al , null new wh...\n",
       "71690               null , cx 2g10 300 emc gb 10k 3 5 fc al\n",
       "190454         cx 2g10 300 emc gb 2gb 10k 3 5 fc hdd , null\n",
       "224854    null , cx 2g10 300 emc gb 2gb 10k 3 5 fc hdd 2...\n",
       "Name: title, dtype: object"
      ]
     },
     "execution_count": 408,
     "metadata": {},
     "output_type": "execute_result"
    }
   ],
   "source": [
    "cluster[\"title\"]"
   ]
  },
  {
   "cell_type": "code",
   "execution_count": null,
   "metadata": {},
   "outputs": [],
   "source": []
  }
 ],
 "metadata": {
  "kernelspec": {
   "display_name": "Python 3",
   "language": "python",
   "name": "python3"
  },
  "language_info": {
   "codemirror_mode": {
    "name": "ipython",
    "version": 3
   },
   "file_extension": ".py",
   "mimetype": "text/x-python",
   "name": "python",
   "nbconvert_exporter": "python",
   "pygments_lexer": "ipython3",
   "version": "3.8.5"
  }
 },
 "nbformat": 4,
 "nbformat_minor": 4
}
