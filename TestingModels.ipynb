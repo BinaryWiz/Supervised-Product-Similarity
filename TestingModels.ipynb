{
 "cells": [
  {
   "cell_type": "code",
   "execution_count": 39,
   "metadata": {},
   "outputs": [],
   "source": [
    "import torch\n",
    "import numpy as np\n",
    "import pandas as pd\n",
    "from src.preprocessing import remove_stop_words\n",
    "from src.model_architectures.characterbert_classifier import SiameseNetwork"
   ]
  },
  {
   "cell_type": "code",
   "execution_count": 40,
   "metadata": {},
   "outputs": [],
   "source": [
    "net = SiameseNetwork()"
   ]
  },
  {
   "cell_type": "code",
   "execution_count": 112,
   "metadata": {},
   "outputs": [],
   "source": [
    "df = pd.read_csv('data/train/spec_train_data_new.csv')"
   ]
  },
  {
   "cell_type": "code",
   "execution_count": 192,
   "metadata": {},
   "outputs": [
    {
     "name": "stdout",
     "output_type": "stream",
     "text": [
      "In both titles:  370 481\n",
      "In title one, not title 2:  111 0\n",
      "In title two not title 1:  125 0\n"
     ]
    }
   ],
   "source": [
    "label_0 = [0, 0, 0]\n",
    "label_1 = [0, 0, 0]\n",
    "token = '256 gb'\n",
    "for row in df.iloc:\n",
    "    if token in row.title_one and token in row.title_two:\n",
    "        if row.label == 1:\n",
    "            label_1[0] += 1\n",
    "        else:\n",
    "            label_0[0] += 1\n",
    "    \n",
    "    elif token in row.title_one and token not in row.title_two:\n",
    "        if row.label == 1:\n",
    "            label_1[1] += 1\n",
    "        else:\n",
    "            label_0[1] += 1\n",
    "    \n",
    "    elif token not in row.title_one and token in row.title_two:\n",
    "        if row.label == 1:\n",
    "            label_1[2] += 1\n",
    "        else:\n",
    "            label_0[2] += 1\n",
    "\n",
    "print(\"In both titles: \", label_0[0], label_1[0])\n",
    "print(\"In title one, not title 2: \", label_0[1], label_1[1])\n",
    "print(\"In title two not title 1: \", label_0[2], label_1[2])"
   ]
  },
  {
   "cell_type": "code",
   "execution_count": 41,
   "metadata": {},
   "outputs": [
    {
     "name": "stdout",
     "output_type": "stream",
     "text": [
      "Loaded Model\n"
     ]
    }
   ],
   "source": [
    "net.load_state_dict(torch.load('./models/Test/test_epoch2.pt'))\n",
    "#net = torch.load('./models/BERT/0.2.1.1_BERT_epoch_3.pt')\n",
    "net.eval()\n",
    "print('Loaded Model')"
   ]
  },
  {
   "cell_type": "code",
   "execution_count": 12,
   "metadata": {},
   "outputs": [],
   "source": [
    "def inference():\n",
    "    title1 = input('First title: ')\n",
    "    title2 = input('Second title: ')\n",
    "    \n",
    "    title1 = remove_stop_words(title1)\n",
    "    title2 = remove_stop_words(title2)\n",
    "    \n",
    "    data = np.array([title1, title2]).reshape(1, 2)\n",
    "    forward = net(data)\n",
    "    np_forward = forward.detach().numpy()[0]\n",
    "    \n",
    "    print('Output: {}'.format(torch.argmax(forward)))\n",
    "    print('Softmax: Negative {:.4f}%, Positive {:.4f}%'.format(np_forward[0], np_forward[1]))"
   ]
  },
  {
   "cell_type": "code",
   "execution_count": 57,
   "metadata": {},
   "outputs": [
    {
     "name": "stdout",
     "output_type": "stream",
     "text": [
      "First title: ASUS - ZenBook 14\"\" Ultra-Slim FHD Notebook - i7-1065G7 - 8GB 512GB in Pine Grey - Pine Grey\n",
      "Second title: ASUS - ZenBook 14\"\" Ultra-Slim FHD Notebook - i7-1065G7 - 8GB 512GB in Pine Grey - Pine Grey windows thunderbolt nanoedge\n",
      "Output: 1\n",
      "Softmax: Negative 0.0000%, Positive 1.0000%\n"
     ]
    }
   ],
   "source": [
    "inference()"
   ]
  },
  {
   "cell_type": "code",
   "execution_count": 54,
   "metadata": {},
   "outputs": [
    {
     "name": "stdout",
     "output_type": "stream",
     "text": [
      "First title: ASUS ZenBook 14 Ultra-Slim Laptop 14\" Full HD NanoEdge Bezel, Intel Core i7-1065G7, 8 GB RAM, 512 GB PCIe SSD, NumberPad, Thunderbolt, Windows Home, Pine Grey\n",
      "Second title: ASUS - ZenBook 14\"\" Ultra-Slim FHD Notebook - i7-1065G7 - 8 GB 512 GB in Pine Grey - Pine Grey\n",
      "Output: 0\n",
      "Softmax: Negative 1.0000%, Positive 0.0000%\n"
     ]
    }
   ],
   "source": [
    "inference()"
   ]
  },
  {
   "cell_type": "code",
   "execution_count": 66,
   "metadata": {},
   "outputs": [
    {
     "name": "stdout",
     "output_type": "stream",
     "text": [
      "First title: Lenovo Yoga C740 2-in-1 14\" Full HD 1080p Touchscreen Laptop PC, Intel Core i5-10210U Quad Core Processor, 8GB DDR4 RAM, 256GB SSD, Backlit Keyboard, Webcam, WiFi, Bluetooth, Windows 10, Mica\n",
      "Second title: \"Lenovo Yoga 14.0\"\" Full HD 2-in-1 Touchscreen Notebook, 10th Gen Intel Core i5-10210U, 8GB DDR4, 256GB SSD, Intel UHD Graphics, Wifi-AC, Bluetooth, USB, Fingerprint Reader, Windows 10\n",
      "Output: 0\n",
      "Softmax: Negative 1.0000%, Positive 0.0000%\n"
     ]
    }
   ],
   "source": [
    "inference()"
   ]
  },
  {
   "cell_type": "code",
   "execution_count": 68,
   "metadata": {
    "scrolled": true
   },
   "outputs": [
    {
     "name": "stdout",
     "output_type": "stream",
     "text": [
      "First title: 20 + 10\n",
      "Second title: 30\n",
      "Output: 0\n",
      "Softmax: Negative 1.0000%, Positive 0.0000%\n"
     ]
    }
   ],
   "source": [
    "inference()"
   ]
  },
  {
   "cell_type": "code",
   "execution_count": 268,
   "metadata": {},
   "outputs": [
    {
     "name": "stdout",
     "output_type": "stream",
     "text": [
      "First title: 1 tb\n",
      "Second title: 2 tb\n",
      "Output: 1\n",
      "Softmax: Negative 0.0015%, Positive 0.9985%\n"
     ]
    }
   ],
   "source": [
    "inference()"
   ]
  },
  {
   "cell_type": "code",
   "execution_count": null,
   "metadata": {},
   "outputs": [],
   "source": [
    "hp 15 4 inch laptop intel core i7 4770k 3 5 ghz 480 gb hard drive 104 gb memory"
   ]
  },
  {
   "cell_type": "markdown",
   "metadata": {},
   "source": [
    "hp chromebook 15 4\"\" intel core i7 4770k cpu 480 gb hdd 104 gb ram"
   ]
  },
  {
   "cell_type": "code",
   "execution_count": null,
   "metadata": {},
   "outputs": [],
   "source": [
    "16 gb ram 512 gb ssd asus zenbook ryzen cpu"
   ]
  }
 ],
 "metadata": {
  "kernelspec": {
   "display_name": "Python 3",
   "language": "python",
   "name": "python3"
  },
  "language_info": {
   "codemirror_mode": {
    "name": "ipython",
    "version": 3
   },
   "file_extension": ".py",
   "mimetype": "text/x-python",
   "name": "python",
   "nbconvert_exporter": "python",
   "pygments_lexer": "ipython3",
   "version": "3.7.9"
  }
 },
 "nbformat": 4,
 "nbformat_minor": 4
}
