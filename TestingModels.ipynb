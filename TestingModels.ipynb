{
 "cells": [
  {
   "cell_type": "code",
   "execution_count": 2,
   "metadata": {},
   "outputs": [],
   "source": [
    "import torch\n",
    "import numpy as np\n",
    "import pandas as pd\n",
    "from src.preprocessing import remove_stop_words\n",
    "from src.model_architectures.characterbert_classifier import SiameseNetwork\n",
    "from characterbert_modeling.character_bert import CharacterBertModel"
   ]
  },
  {
   "cell_type": "code",
   "execution_count": 87,
   "metadata": {},
   "outputs": [],
   "source": [
    "character_bert_model = CharacterBertModel.from_pretrained('./pretrained-models/general_character_bert/')"
   ]
  },
  {
   "cell_type": "code",
   "execution_count": 92,
   "metadata": {},
   "outputs": [],
   "source": [
    "net = SiameseNetwork()"
   ]
  },
  {
   "cell_type": "code",
   "execution_count": 88,
   "metadata": {},
   "outputs": [],
   "source": [
    "net.bert = character_bert_model"
   ]
  },
  {
   "cell_type": "code",
   "execution_count": 103,
   "metadata": {},
   "outputs": [],
   "source": [
    "df = pd.read_csv('data/train/total_data.csv')"
   ]
  },
  {
   "cell_type": "code",
   "execution_count": 105,
   "metadata": {},
   "outputs": [
    {
     "name": "stdout",
     "output_type": "stream",
     "text": [
      "In both titles:  216 281\n",
      "In title one, not title 2:  72 5\n",
      "In title two not title 1:  85 11\n"
     ]
    }
   ],
   "source": [
    "label_0 = [0, 0, 0]\n",
    "label_1 = [0, 0, 0]\n",
    "token = '256 gb'\n",
    "for row in df.iloc:\n",
    "    if token in row.title_one and token in row.title_two:\n",
    "        if row.label == 1:\n",
    "            label_1[0] += 1\n",
    "        else:\n",
    "            label_0[0] += 1\n",
    "    \n",
    "    elif token in row.title_one and token not in row.title_two:\n",
    "        if row.label == 1:\n",
    "            label_1[1] += 1\n",
    "        else:\n",
    "            label_0[1] += 1\n",
    "    \n",
    "    elif token not in row.title_one and token in row.title_two:\n",
    "        if row.label == 1:\n",
    "            label_1[2] += 1\n",
    "        else:\n",
    "            label_0[2] += 1\n",
    "\n",
    "print(\"In both titles: \", label_0[0], label_1[0])\n",
    "print(\"In title one, not title 2: \", label_0[1], label_1[1])\n",
    "print(\"In title two not title 1: \", label_0[2], label_1[2])"
   ]
  },
  {
   "cell_type": "code",
   "execution_count": 114,
   "metadata": {},
   "outputs": [
    {
     "name": "stdout",
     "output_type": "stream",
     "text": [
      "Loaded Model\n"
     ]
    }
   ],
   "source": [
    "net.load_state_dict(torch.load('./models/CharacterBERT_0.2.3.1/CharacterBERT_epoch4.pt'))\n",
    "#net = torch.load('./models/BERT/0.2.1.1_BERT_epoch_3.pt')\n",
    "net.eval()\n",
    "print('Loaded Model')"
   ]
  },
  {
   "cell_type": "code",
   "execution_count": 84,
   "metadata": {},
   "outputs": [],
   "source": [
    "def cosine_sim():\n",
    "    title1 = input('First title: ')\n",
    "    title2 = input('Second title: ')\n",
    "    \n",
    "    title1 = \"[CLS] \" + remove_stop_words(title1) + \" [SEP]\"\n",
    "    title2 = \"[CLS] \" + remove_stop_words(title2) + \" [SEP]\"\n",
    "\n",
    "    # We need to split up each token in the title by the space\n",
    "    # So, \"intel core i7 7700k\" becomes [\"intel\", \"core\", \"i7\", \"7700k\"]\n",
    "    input1 = title1.split(\" \")\n",
    "    input2 = title2.split(\" \")\n",
    "    \n",
    "    # Now, we feed the input into the CharacterBERT tokenizer, which converts each \n",
    "    input1 = net.character_indexer.as_padded_tensor([input1])\n",
    "    input2 = net.character_indexer.as_padded_tensor([input2])\n",
    "    \n",
    "    out1 = net.bert(input1)[1]\n",
    "    out2 = net.bert(input2)[1]\n",
    "    \n",
    "    return torch.nn.CosineSimilarity(dim=1, eps=1e-6)(out1, out2)"
   ]
  },
  {
   "cell_type": "code",
   "execution_count": 89,
   "metadata": {},
   "outputs": [
    {
     "name": "stdout",
     "output_type": "stream",
     "text": [
      "First title: 16 gb\n",
      "Second title: 16gb\n"
     ]
    },
    {
     "data": {
      "text/plain": [
       "tensor([0.9890], grad_fn=<DivBackward0>)"
      ]
     },
     "execution_count": 89,
     "metadata": {},
     "output_type": "execute_result"
    }
   ],
   "source": [
    "cosine_sim()"
   ]
  },
  {
   "cell_type": "code",
   "execution_count": 5,
   "metadata": {},
   "outputs": [],
   "source": [
    "def inference():\n",
    "    title1 = input('First title: ')\n",
    "    title2 = input('Second title: ')\n",
    "    \n",
    "    title1 = remove_stop_words(title1)\n",
    "    title2 = remove_stop_words(title2)\n",
    "    \n",
    "    data = np.array([title1, title2]).reshape(1, 2)\n",
    "    forward = net(data)\n",
    "    np_forward = forward.detach().numpy()[0]\n",
    "    \n",
    "    print('Output: {}'.format(torch.argmax(forward)))\n",
    "    print('Softmax: Negative {:.4f}%, Positive {:.4f}%'.format(np_forward[0], np_forward[1]))"
   ]
  },
  {
   "cell_type": "code",
   "execution_count": 94,
   "metadata": {},
   "outputs": [
    {
     "name": "stdout",
     "output_type": "stream",
     "text": [
      "First title: ASUS ZenBook 14 Ultra-Slim Laptop 14\" Full HD NanoEdge Bezel, Intel Core i7-1065G7, 8 GB RAM, 512 GB PCIe SSD, NumberPad, Thunderbolt, Windows Home, Pine Grey\n",
      "Second title: ASUS - ZenBook 14\"\" Ultra-Slim FHD Notebook - i7-1065G7 - 8 GB 512 GB in Pine Grey - Pine Grey\n",
      "Output: 0\n",
      "Softmax: Negative 1.0000%, Positive 0.0000%\n"
     ]
    }
   ],
   "source": [
    "inference()"
   ]
  },
  {
   "cell_type": "code",
   "execution_count": 78,
   "metadata": {},
   "outputs": [
    {
     "name": "stdout",
     "output_type": "stream",
     "text": [
      "First title: ASUS ZenBook 14 Ultra-Slim Laptop 14\" Full HD NanoEdge Bezel, Intel Core i7-1065G7, 8 GB RAM, 512 GB PCIe SSD, NumberPad, Thunderbolt, Windows Home, Pine Grey\n",
      "Second title: ASUS - ZenBook 14\"\" Ultra-Slim FHD Notebook - i7-1065G7 - 8 GB 512 GB in Pine Grey - Pine Grey\n",
      "Output: 1\n",
      "Softmax: Negative 0.0357%, Positive 0.9643%\n"
     ]
    }
   ],
   "source": [
    "inference()"
   ]
  },
  {
   "cell_type": "code",
   "execution_count": 11,
   "metadata": {},
   "outputs": [
    {
     "name": "stdout",
     "output_type": "stream",
     "text": [
      "First title: Lenovo Yoga C740 14\" Full HD 1080p Touchscreen Laptop PC, Intel Core i5-10210U Quad Core Processor, 8GB DDR4 RAM, 256GB SSD, Backlit Keyboard, Webcam, WiFi, Bluetooth, Windows 10, Mica\n",
      "Second title: Lenovo Yoga 14.0\" Full HD 2-in-1 Touchscreen Notebook, 10th Gen Intel Core i5-10210U, 8GB DDR4, 256GB SSD, Intel UHD Graphics, Wifi-AC, Bluetooth, USB, Fingerprint Reader, Windows 10\n",
      "Output: 1\n",
      "Softmax: Negative 0.0444%, Positive 0.9556%\n"
     ]
    }
   ],
   "source": [
    "inference()"
   ]
  },
  {
   "cell_type": "code",
   "execution_count": 10,
   "metadata": {
    "scrolled": true
   },
   "outputs": [
    {
     "name": "stdout",
     "output_type": "stream",
     "text": [
      "First title: Lenovo Yoga C740 2-in-1 14\" Full HD 1080p Touchscreen Laptop PC, Intel Core i5-10210U Quad Core Processor, 8GB DDR4 RAM, 256GB SSD, Backlit Keyboard, Webcam, WiFi, Bluetooth, Windows 10, Mica\n",
      "Second title: Lenovo Yoga 14.0\" Full HD 2-in-1 Touchscreen Notebook, 10th Gen Intel Core i5-10210U, 8GB DDR4, 256GB SSD, Intel UHD Graphics, Wifi-AC, Bluetooth, USB, Fingerprint Reader, Windows 10\n",
      "Output: 1\n",
      "Softmax: Negative 0.0433%, Positive 0.9567%\n"
     ]
    }
   ],
   "source": [
    "inference()"
   ]
  },
  {
   "cell_type": "markdown",
   "metadata": {},
   "source": [
    "hp chromebook 15 4\"\" intel core i7 4770k cpu 480 gb hdd 104 gb ram"
   ]
  },
  {
   "cell_type": "code",
   "execution_count": 23,
   "metadata": {},
   "outputs": [
    {
     "name": "stdout",
     "output_type": "stream",
     "text": [
      "First title: ASUS ZenBook 14 Ultra-Slim Laptop 14\" Full HD NanoEdge Bezel, Intel Core i7-1065G7, 8 GB RAM, 512 GB PCIe SSD, NumberPad, Thunderbolt, Windows Home, Pine Grey\n",
      "Second title: ASUS - ZenBook 14\"\" Ultra-Slim FHD Notebook - i7-1065G7 - 8 GB 512 GB in Pine Grey - Pine Grey\n",
      "Output: 1\n",
      "Softmax: Negative 0.3740%, Positive 0.6260%\n"
     ]
    }
   ],
   "source": [
    "inference()"
   ]
  },
  {
   "cell_type": "code",
   "execution_count": 25,
   "metadata": {},
   "outputs": [
    {
     "name": "stdout",
     "output_type": "stream",
     "text": [
      "First title: ASUS ZenBook 14 Ultra-Slim Laptop 14\" Full HD NanoEdge Bezel, Intel Core i7-1065G7, 8GB RAM, 512GB PCIe SSD, NumberPad, Thunderbolt, Windows Home, Pine Grey\n",
      "Second title: ASUS - ZenBook 14\"\" Ultra-Slim FHD Notebook - i7-1065G7 - 8 GB 512 GB in Pine Grey - Pine Grey\n",
      "Output: 1\n",
      "Softmax: Negative 0.4696%, Positive 0.5304%\n"
     ]
    }
   ],
   "source": [
    "inference()"
   ]
  },
  {
   "cell_type": "code",
   "execution_count": 36,
   "metadata": {},
   "outputs": [
    {
     "name": "stdout",
     "output_type": "stream",
     "text": [
      "First title: ASUS ZenBook 14 Ultra-Slim Laptop 14\" Full HD NanoEdge Bezel, Intel Core i7-1065G7, 8GB RAM, 512GB PCIe SSD, NumberPad, Thunderbolt, Windows 10 Home, Pine Grey\n",
      "Second title: ASUS - ZenBook 14\"\" Ultra-Slim FHD Notebook - i7-1065G7 - 8 GB 512 GB in Pine Grey - Pine Grey\n",
      "Output: 1\n",
      "Softmax: Negative 0.0491%, Positive 0.9509%\n"
     ]
    }
   ],
   "source": [
    "inference()"
   ]
  },
  {
   "cell_type": "code",
   "execution_count": 37,
   "metadata": {},
   "outputs": [
    {
     "name": "stdout",
     "output_type": "stream",
     "text": [
      "First title: ASUS ZenBook 14 Ultra-Slim Laptop 14\" Full HD NanoEdge Bezel, Intel Core i7-1065G7, 8 GB RAM, 512 GB PCIe SSD, NumberPad, Thunderbolt, Windows 10 Home, Pine Grey\n",
      "Second title: ASUS - ZenBook 14\"\" Ultra-Slim FHD Notebook - i7-1065G7 - 8 GB 512 GB in Pine Grey - Pine Grey\n",
      "Output: 1\n",
      "Softmax: Negative 0.4937%, Positive 0.5063%\n"
     ]
    }
   ],
   "source": [
    "inference()"
   ]
  },
  {
   "cell_type": "code",
   "execution_count": 38,
   "metadata": {},
   "outputs": [
    {
     "name": "stdout",
     "output_type": "stream",
     "text": [
      "First title: ASUS ZenBook 14 Ultra-Slim Laptop 14\" Full HD NanoEdge Bezel, Intel Core i7-1065G7, 8 GB RAM, 512 GB PCIe SSD, NumberPad, Thunderbolt, Windows Home, Pine Grey\n",
      "Second title: ASUS - ZenBook 14\"\" Ultra-Slim FHD Notebook - i7-1065G7 - 8 GB 512 GB in Pine Grey - Pine Grey\n",
      "Output: 1\n",
      "Softmax: Negative 0.4747%, Positive 0.5253%\n"
     ]
    }
   ],
   "source": [
    "inference()"
   ]
  },
  {
   "cell_type": "code",
   "execution_count": 58,
   "metadata": {},
   "outputs": [
    {
     "name": "stdout",
     "output_type": "stream",
     "text": [
      "First title: ASUS ZenBook 14 Ultra-Slim Laptop 14\" Full HD NanoEdge Bezel, Intel Core i7-1065G7, 8GB RAM, 512GB PCIe SSD, NumberPad, Thunderbolt, Windows Home, Pine Grey\n",
      "Second title: ASUS - ZenBook 14\"\" Ultra-Slim FHD Notebook - i7-1065G7 - 8 GB 512 GB in Pine Grey - Pine Grey\n",
      "Output: 1\n",
      "Softmax: Negative 0.4696%, Positive 0.5304%\n"
     ]
    }
   ],
   "source": [
    "inference()"
   ]
  },
  {
   "cell_type": "code",
   "execution_count": 64,
   "metadata": {},
   "outputs": [
    {
     "name": "stdout",
     "output_type": "stream",
     "text": [
      "First title: Lenovo Yoga C740 14\" Full HD 1080p Touchscreen Laptop PC, Intel Core i5-10210U Quad Core Processor, 8GB DDR4 RAM, 256GB SSD, Backlit Keyboard, Webcam, WiFi, Bluetooth, Windows 10, Mica\n",
      "Second title: Lenovo Yoga 14.0\" Full HD 2-in-1 Touchscreen Notebook, 10th Gen Intel Core i5-10210U, 8GB DDR4, 256GB SSD, Intel UHD Graphics, Wifi-AC, Bluetooth, USB, Fingerprint Reader, Windows 10\n",
      "Output: 1\n",
      "Softmax: Negative 0.3194%, Positive 0.6806%\n"
     ]
    }
   ],
   "source": [
    "inference()"
   ]
  },
  {
   "cell_type": "code",
   "execution_count": 65,
   "metadata": {},
   "outputs": [
    {
     "name": "stdout",
     "output_type": "stream",
     "text": [
      "First title: Lenovo Yoga 14.0\" Full HD 2-in-1 Touchscreen Notebook, 10th Gen Intel Core i5-10210U, 8 GB DDR4, 256 GB SSD, Intel UHD Graphics, Wifi-AC, Bluetooth, USB, Fingerprint Reader, Windows 10\n",
      "Second title: Lenovo Yoga 14.0\" Full HD 2-in-1 Touchscreen Notebook, 10th Gen Intel Core i5-10210U, 8 GB DDR4, 256 GB SSD, Intel UHD Graphics, Wifi-AC, Bluetooth, USB, Fingerprint Reader, Windows 10\n",
      "Output: 1\n",
      "Softmax: Negative 0.0352%, Positive 0.9648%\n"
     ]
    }
   ],
   "source": [
    "inference()"
   ]
  },
  {
   "cell_type": "code",
   "execution_count": 67,
   "metadata": {},
   "outputs": [
    {
     "name": "stdout",
     "output_type": "stream",
     "text": [
      "First title: Lenovo Yoga 14.0\" Full HD 2-in-1 Touchscreen Notebook, 10th Gen Intel Core i5-10210U, 8 GB DDR4, 256 GB SSD, Intel UHD Graphics, Wifi-AC, Bluetooth, USB, Fingerprint Reader, Windows 10\n",
      "Second title: Lenovo Yoga 14.0\" Full HD 2-in-1 Touchscreen Notebook, 10th Gen Intel Core i5-10210U, 8 GB DDR4, 256 GB SSD, Intel UHD Graphics, Wifi-AC, Bluetooth, USB, Fingerprint Reader,\n",
      "Output: 1\n",
      "Softmax: Negative 0.0353%, Positive 0.9647%\n"
     ]
    }
   ],
   "source": [
    "inference()"
   ]
  },
  {
   "cell_type": "code",
   "execution_count": 69,
   "metadata": {},
   "outputs": [
    {
     "name": "stdout",
     "output_type": "stream",
     "text": [
      "First title: ASUS ZenBook 14 Ultra-Slim Laptop 14\" Full HD NanoEdge Bezel, Intel Core i7-1065G7, 8 GB RAM, 512 GB PCIe SSD, NumberPad, Thunderbolt 3, Windows 10 Home, Pine Grey, UX425JA-EB71\n",
      "Second title: \"ASUS - ZenBook 14\"\" Ultra-Slim FHD Notebook - i7-1065G7 - 8GB 512GB in Pine Grey - Pine Grey \"\n",
      "Output: 1\n",
      "Softmax: Negative 0.0353%, Positive 0.9647%\n"
     ]
    }
   ],
   "source": [
    "inference()"
   ]
  },
  {
   "cell_type": "code",
   "execution_count": 71,
   "metadata": {},
   "outputs": [
    {
     "name": "stdout",
     "output_type": "stream",
     "text": [
      "First title: \"ASUS - ZenBook 14\"\" Ultra-Slim FHD Notebook - i7-1065G7 - 8 GB 512 GB in Pine Grey - Pine Grey \"\n",
      "Second title: ASUS ZenBook 14 Ultra-Slim Laptop 14\" Full HD NanoEdge Bezel, Intel Core i7-1065G7, 8 GB RAM, 512 GB PCIe SSD, NumberPad, Thunderbolt 3, Windows 10 Home, Pine Grey, UX425JA-EB71\n",
      "Output: 1\n",
      "Softmax: Negative 0.0353%, Positive 0.9647%\n"
     ]
    }
   ],
   "source": [
    "inference()"
   ]
  },
  {
   "cell_type": "code",
   "execution_count": 72,
   "metadata": {},
   "outputs": [
    {
     "name": "stdout",
     "output_type": "stream",
     "text": [
      "First title: intel core i7 7700k\n",
      "Second title: intel core i7 8700k\n",
      "Output: 0\n",
      "Softmax: Negative 0.9625%, Positive 0.0375%\n"
     ]
    }
   ],
   "source": [
    "inference()"
   ]
  },
  {
   "cell_type": "code",
   "execution_count": 73,
   "metadata": {},
   "outputs": [
    {
     "name": "stdout",
     "output_type": "stream",
     "text": [
      "First title: \"HP EliteBook x360 1030 G4 13.3-Inch Touchscreen Laptop with Verizon/AT&T Compatible 4G LTE Wireless Feature (i7-8665U Processor, WiFi+BT5, 512GB SSD, 16GB RAM, HD-IR Camera) Windows 10 Pro \"\n",
      "Second title: \"HP 13.3\"\" EliteBook x360 1030 G4 Multi-Touch 2-in-1 Notebook - 13.3\"\" FHD UWVA Touchscreen - 1.9 GHz Intel Core i7-8665U Quad-Core - 512GB SSD - 16GB - Windows 10 pro (8TJ80UC) \"\n",
      "Output: 1\n",
      "Softmax: Negative 0.0356%, Positive 0.9644%\n"
     ]
    }
   ],
   "source": [
    "inference()"
   ]
  },
  {
   "cell_type": "code",
   "execution_count": 74,
   "metadata": {},
   "outputs": [
    {
     "name": "stdout",
     "output_type": "stream",
     "text": [
      "First title: \"HP 13.3\"\" EliteBook x360 1030 G4 Multi-Touch 2-in-1 Notebook - 13.3\"\" FHD UWVA Touchscreen - 1.9 GHz Intel Core i7-8665U Quad-Core - 512 GB SSD - 16 GB - Windows 10 pro (8TJ80UC) \"\n",
      "Second title: HP EliteBook x360 1030 G4 13.3-Inch Touchscreen Laptop with Verizon/AT&T Compatible 4G LTE Wireless Feature (i7-8665U Processor, WiFi+BT5, 512 GB SSD, 16 GB RAM, HD-IR Camera) Windows 10 Pro\n",
      "Output: 1\n",
      "Softmax: Negative 0.0371%, Positive 0.9629%\n"
     ]
    }
   ],
   "source": [
    "inference()"
   ]
  },
  {
   "cell_type": "code",
   "execution_count": 77,
   "metadata": {},
   "outputs": [
    {
     "name": "stdout",
     "output_type": "stream",
     "text": [
      "First title: corsair 16gb rgb memory\n",
      "Second title: corsair rgb 16 gb ram\n",
      "Output: 1\n",
      "Softmax: Negative 0.4994%, Positive 0.5006%\n"
     ]
    }
   ],
   "source": [
    "inference()"
   ]
  },
  {
   "cell_type": "code",
   "execution_count": 113,
   "metadata": {},
   "outputs": [
    {
     "name": "stdout",
     "output_type": "stream",
     "text": [
      "First title: HP 13.3\"\" EliteBook x360 1030 G4 Multi-Touch 2-in-1 Notebook - 13.3\"\" FHD UWVA Touchscreen - 1.9 GHz Intel Core i7-8665U Quad-Core - 512 GB SSD - 16 GB - Windows 10 pro (8TJ80UC)\n",
      "Second title: HP EliteBook x360 1030 G4 13.3-Inch Touchscreen Laptop with Verizon/AT&T Compatible 4G LTE Wireless Feature (i7-8665U Processor, WiFi+BT5, 512 GB SSD, 16 GB RAM, HD-IR Camera) Windows 10 Pro\n",
      "Output: 1\n",
      "Softmax: Negative 0.0338%, Positive 0.9662%\n"
     ]
    }
   ],
   "source": [
    "inference()"
   ]
  },
  {
   "cell_type": "code",
   "execution_count": null,
   "metadata": {},
   "outputs": [],
   "source": []
  }
 ],
 "metadata": {
  "kernelspec": {
   "display_name": "Python 3",
   "language": "python",
   "name": "python3"
  },
  "language_info": {
   "codemirror_mode": {
    "name": "ipython",
    "version": 3
   },
   "file_extension": ".py",
   "mimetype": "text/x-python",
   "name": "python",
   "nbconvert_exporter": "python",
   "pygments_lexer": "ipython3",
   "version": "3.7.9"
  }
 },
 "nbformat": 4,
 "nbformat_minor": 4
}
