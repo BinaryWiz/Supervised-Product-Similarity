{
 "cells": [
  {
   "cell_type": "code",
   "execution_count": 1,
   "metadata": {},
   "outputs": [],
   "source": [
    "import torch\n",
    "import numpy as np\n",
    "import pandas as pd\n",
    "from src.preprocessing import remove_stop_words\n",
    "from src.model_architectures.bert_classifier import SiameseNetwork"
   ]
  },
  {
   "cell_type": "code",
   "execution_count": 161,
   "metadata": {},
   "outputs": [],
   "source": [
    "net = SiameseNetwork(50)"
   ]
  },
  {
   "cell_type": "code",
   "execution_count": null,
   "metadata": {
    "scrolled": true
   },
   "outputs": [],
   "source": [
    "for idx, module in enumerate(net.bert.modules()):\n",
    "    print(type(module))\n",
    "    if type(module) == torch.nn.modules.dropout.Dropout:\n",
    "        module = torch.nn.Dropout(p=0.3)\n",
    "    print(idx, module)"
   ]
  },
  {
   "cell_type": "code",
   "execution_count": null,
   "metadata": {},
   "outputs": [],
   "source": []
  },
  {
   "cell_type": "code",
   "execution_count": 112,
   "metadata": {},
   "outputs": [],
   "source": [
    "df = pd.read_csv('data/train/spec_train_data_new.csv')"
   ]
  },
  {
   "cell_type": "code",
   "execution_count": 192,
   "metadata": {},
   "outputs": [
    {
     "name": "stdout",
     "output_type": "stream",
     "text": [
      "In both titles:  370 481\n",
      "In title one, not title 2:  111 0\n",
      "In title two not title 1:  125 0\n"
     ]
    }
   ],
   "source": [
    "label_0 = [0, 0, 0]\n",
    "label_1 = [0, 0, 0]\n",
    "token = '256 gb'\n",
    "for row in df.iloc:\n",
    "    if token in row.title_one and token in row.title_two:\n",
    "        if row.label == 1:\n",
    "            label_1[0] += 1\n",
    "        else:\n",
    "            label_0[0] += 1\n",
    "    \n",
    "    elif token in row.title_one and token not in row.title_two:\n",
    "        if row.label == 1:\n",
    "            label_1[1] += 1\n",
    "        else:\n",
    "            label_0[1] += 1\n",
    "    \n",
    "    elif token not in row.title_one and token in row.title_two:\n",
    "        if row.label == 1:\n",
    "            label_1[2] += 1\n",
    "        else:\n",
    "            label_0[2] += 1\n",
    "\n",
    "print(\"In both titles: \", label_0[0], label_1[0])\n",
    "print(\"In title one, not title 2: \", label_0[1], label_1[1])\n",
    "print(\"In title two not title 1: \", label_0[2], label_1[2])"
   ]
  },
  {
   "cell_type": "code",
   "execution_count": 241,
   "metadata": {},
   "outputs": [
    {
     "name": "stdout",
     "output_type": "stream",
     "text": [
      "Loaded Model\n"
     ]
    }
   ],
   "source": [
    "net = torch.load('./models/0.2.1.1_BERT_epoch_5.pt')\n",
    "net.eval()\n",
    "print('Loaded Model')"
   ]
  },
  {
   "cell_type": "code",
   "execution_count": 178,
   "metadata": {},
   "outputs": [],
   "source": [
    "#torch.save(net.state_dict(), './models/0.2.1.1_BERT_epoch_1_state_dict.pt')"
   ]
  },
  {
   "cell_type": "code",
   "execution_count": 180,
   "metadata": {},
   "outputs": [],
   "source": [
    "def inference():\n",
    "    title1 = input('First title: ')\n",
    "    title2 = input('Second title: ')\n",
    "    \n",
    "    title1 = remove_stop_words(title1)\n",
    "    title2 = remove_stop_words(title2)\n",
    "    \n",
    "    data = np.array([title1, title2]).reshape(1, 2)\n",
    "    forward = net(data)\n",
    "    np_forward = forward.detach().numpy()[0]\n",
    "    \n",
    "    print('Output: {}'.format(torch.argmax(forward)))\n",
    "    print('Softmax: Negative {:.4f}%, Positive {:.4f}%'.format(np_forward[0], np_forward[1]))"
   ]
  },
  {
   "cell_type": "code",
   "execution_count": 251,
   "metadata": {},
   "outputs": [
    {
     "name": "stdout",
     "output_type": "stream",
     "text": [
      "First title: ASUS - ZenBook 14\" Ultra-Slim FHD Notebook - i7-1065G7 - 8GB 512 GB in Pine Grey - Pine Grey\n",
      "Second title: ASUS - ZenBook 14\" Ultra-Slim FHD Notebook - i7-1065G7 - 8GB 256 GB in Pine Grey - Pine Grey\n",
      "Output: 1\n",
      "Softmax: Negative 0.1000%, Positive 0.9000%\n"
     ]
    }
   ],
   "source": [
    "inference()"
   ]
  },
  {
   "cell_type": "code",
   "execution_count": 249,
   "metadata": {},
   "outputs": [
    {
     "name": "stdout",
     "output_type": "stream",
     "text": [
      "First title: 2020 Lenovo Yoga C740 2-in-1 14\" FHD Touchscreen Laptop Computer, 10th Gen Intel Quad-Core i5-10210U up to 4.2GHz , 8 GB DDR4 RAM, 256 GB PCIe SSD, Mica, Windows 10\n",
      "Second title: 2020 Lenovo Yoga C740 2-in-1 14\" FHD Touchscreen Laptop Computer, 10th Gen Intel Quad-Core i5-10210U up to 4.2GHz , 16 GB DDR4 RAM, 256 GB PCIe SSD, Mica, Windows 10\n",
      "Output: 0\n",
      "Softmax: Negative 0.6489%, Positive 0.3511%\n"
     ]
    }
   ],
   "source": [
    "inference()"
   ]
  },
  {
   "cell_type": "code",
   "execution_count": 236,
   "metadata": {},
   "outputs": [
    {
     "name": "stdout",
     "output_type": "stream",
     "text": [
      "First title: apple macbook 15 4\"\" laptop 496 gb sata ssd 4 gb ram amd ryzen 5 1600 3 2 ghz 6 core cpu\n",
      "Second title: apple macbook 15 4\"\" laptop 256 gb sata ssd 4 gb ram amd ryzen 5 1600 3 2 ghz 6 core cpu\n",
      "Output: 0\n",
      "Softmax: Negative 0.9999%, Positive 0.0001%\n"
     ]
    }
   ],
   "source": [
    "inference()"
   ]
  },
  {
   "cell_type": "code",
   "execution_count": 203,
   "metadata": {
    "scrolled": true
   },
   "outputs": [
    {
     "name": "stdout",
     "output_type": "stream",
     "text": [
      "First title: ASUS VivoBook Thin and Lightweight FHD WideView Laptop, 8th Gen Intel Core i5-8250U, 8GB DDR4 RAM, 128GB SSD+1TB HDD, USB Type-C, NanoEdge, Fingerprint Reader, Windows 10 - F510UA-AH55\n",
      "Second title: ASUS Laptop 15.6, Intel Core i5-8250U 1.6GHz, Intel HD, 1TB HDD + 256 GB SSD, 16 GB RAM, F510UA-AH55\n",
      "Output: 1\n",
      "Softmax: Negative 0.0009%, Positive 0.9991%\n"
     ]
    }
   ],
   "source": [
    "inference()"
   ]
  },
  {
   "cell_type": "code",
   "execution_count": 246,
   "metadata": {},
   "outputs": [
    {
     "name": "stdout",
     "output_type": "stream",
     "text": [
      "First title: 8\n",
      "Second title: 16\n",
      "Output: 1\n",
      "Softmax: Negative 0.0106%, Positive 0.9894%\n"
     ]
    }
   ],
   "source": [
    "inference()"
   ]
  },
  {
   "cell_type": "code",
   "execution_count": null,
   "metadata": {},
   "outputs": [],
   "source": [
    "hp 15 4 inch laptop intel core i7 4770k 3 5 ghz 480 gb hard drive 104 gb memory"
   ]
  },
  {
   "cell_type": "markdown",
   "metadata": {},
   "source": [
    "hp chromebook 15 4\"\" intel core i7 4770k cpu 480 gb hdd 104 gb ram"
   ]
  },
  {
   "cell_type": "code",
   "execution_count": null,
   "metadata": {},
   "outputs": [],
   "source": [
    "16 gb ram 512 gb ssd asus zenbook ryzen cpu"
   ]
  }
 ],
 "metadata": {
  "kernelspec": {
   "display_name": "Python 3",
   "language": "python",
   "name": "python3"
  },
  "language_info": {
   "codemirror_mode": {
    "name": "ipython",
    "version": 3
   },
   "file_extension": ".py",
   "mimetype": "text/x-python",
   "name": "python",
   "nbconvert_exporter": "python",
   "pygments_lexer": "ipython3",
   "version": "3.7.9"
  }
 },
 "nbformat": 4,
 "nbformat_minor": 4
}
