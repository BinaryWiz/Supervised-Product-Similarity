{
 "metadata": {
  "orig_nbformat": 2,
  "kernelspec": {
   "name": "python3",
   "display_name": "Python 3",
   "language": "python"
  }
 },
 "nbformat": 4,
 "nbformat_minor": 2,
 "cells": [
  {
   "cell_type": "code",
   "execution_count": 5,
   "metadata": {},
   "outputs": [],
   "source": [
    "import re\n",
    "import math\n",
    "import pandas as pd\n",
    "import os\n",
    "import random\n",
    "from tqdm import tqdm\n",
    "import sys\n",
    "from itertools import combinations\n",
    "from nltk.corpus import stopwords\n",
    "sys.path.append(os.getcwd())\n",
    "from src.data_creation.laptop_data_creation import LaptopAttributes, populate_spec\n",
    "from src.preprocessing import unit_matcher, remove_misc\n",
    "from src.common import create_final_data\n"
   ]
  },
  {
   "cell_type": "code",
   "execution_count": 6,
   "metadata": {},
   "outputs": [],
   "source": [
    "def remove_stop_words(phrase):\n",
    "    '''\n",
    "    Removes the stop words from a string\n",
    "    '''\n",
    "\n",
    "    # Creates the stopwords\n",
    "    to_stop = stopwords.words('english')\n",
    "    punctuation = \"!”#$%&’()*+,-/:;<=>?@[\\]^_`{|}~ \"\n",
    "    for c in punctuation:\n",
    "        to_stop.append(c)\n",
    "    to_stop.append('null')\n",
    "    \n",
    "    for punc in punctuation:\n",
    "        phrase = phrase.replace(punc, ' ')\n",
    "    \n",
    "    return ' '.join((' '.join([x for x in phrase.split(' ') if x not in to_stop])).split()).lower()"
   ]
  },
  {
   "cell_type": "code",
   "execution_count": 250,
   "metadata": {},
   "outputs": [],
   "source": [
    "populate_spec()\n",
    "class LaptopRetailerRegEx:\n",
    "    laptop_brands = {'gateway', 'panasonic', 'toughbook', 'msi'}\n",
    "    product_attrs = {'vivobook'}\n",
    "    cpu_attributes = {'intel', 'm 2', '2 core', '4 core', '6 core', '8 core'}\n",
    "\n",
    "    for brand in LaptopAttributes.laptop_brands:\n",
    "        laptop_brands.add(brand.split(' ')[0].lower())\n",
    "        product_attrs.add(' '.join(brand.split(' ')[1: ]).lower())\n",
    "\n",
    "    intel_cpu_df = pd.read_csv('data/base/intel_cpus.csv')\n",
    "    intel_cpu_df = intel_cpu_df['title'].map(lambda x: remove_stop_words(x).split(' '))\n",
    "    for i in range(len(intel_cpu_df)):\n",
    "        cpu_attributes.update(intel_cpu_df.iloc[i])\n",
    "\n",
    "    amd_cpu_df = pd.read_csv('data/base/amd_cpus.csv')\n",
    "    amd_cpu_df = amd_cpu_df['title'].map(lambda x: remove_stop_words(x).split(' '))\n",
    "    for i in range(len(amd_cpu_df)):\n",
    "        cpu_attributes.update(amd_cpu_df.iloc[i])\n",
    "\n",
    "    laptop_brands = list(laptop_brands)\n",
    "    laptop_brands.sort(key=len, reverse=True)\n",
    "\n",
    "    product_attrs = list(product_attrs)\n",
    "    product_attrs.sort(key=len, reverse=True)\n",
    "\n",
    "    cpu_attributes = list(cpu_attributes)\n",
    "    cpu_attributes.sort(key=len, reverse=True)\n",
    "\n",
    "    ram_modifiers = ['memory', 'ram', 'ddr4', 'ddr4 ram', 'ddr4 memory']\n",
    "    ram_modifiers.sort()\n",
    "\n",
    "    hard_drive_modifiers = ['hdd', 'hard drive', 'disk drive', 'storage', 'hard drive storage', 'hdd storage']\n",
    "    hard_drive_modifiers.sort(key=len, reverse=True)\n",
    "\n",
    "    ssd_modifiers = ['ssd', 'solid state drive', 'solid state disk', 'pcie', 'pcie ssd', 'ssd storage']\n",
    "    ssd_modifiers.sort(key=len, reverse=True)\n",
    "\n",
    "    annoying_words = ['windows 10', 'win 10', 'windows 10 in s mode', 'windows', '3.0', '3.1', '3.2', 'optical drive', 'cd drive', 'dvd drive']\n",
    "    annoying_words.sort(key=len, reverse=True)\n",
    "\n",
    "    ram_modifier_matcher = re.compile(\"\\\\b\" + \"(?!\\S)|\\\\b\".join(ram_modifiers) + \"(?!\\S)\", re.IGNORECASE)\n",
    "    random_matcher = re.compile(\"\\\\b\" + \"(?!\\S)|\\\\b\".join(annoying_words) + \"(?!\\S)\", re.IGNORECASE)\n",
    "    cpu_matcher = re.compile(\"\\\\b\" + \"(?!\\S)|\\\\b\".join(cpu_attributes) + \"(?!\\S)\", re.IGNORECASE)\n",
    "    brand_matcher = re.compile(\"\\\\b\" + \"(?!\\S)|\\\\b\".join(laptop_brands) + \"(?!\\S)\", re.IGNORECASE)\n",
    "    product_attr_matcher = re.compile(\"\\\\b\" + \"(?!\\S)|\\\\b\".join(product_attrs) + \"(?!\\S)\", re.IGNORECASE)\n",
    "    ram_matcher = re.compile(' ?[0-9]+.{0,1}' + 'gb ?' + '(?:' + '|'.join([x for x in ram_modifiers]) + ')(?!\\S)', re.IGNORECASE)\n",
    "    hard_drive_matcher = re.compile(' ?[0-9]+.{0,1}' + '(?:gb|tb) ?' + '(?:' + '|'.join([x for x in hard_drive_modifiers]) + ')(?!\\S)', re.IGNORECASE)\n",
    "    ssd_matcher = re.compile(' ?[0-9]+.{0,1}' + '(?:gb|tb) ?' + '(?:' + '|'.join([x for x in ssd_modifiers]) + ')(?!\\S)', re.IGNORECASE)\n",
    "    gbtb_matcher = re.compile(' ?[0-9]+.{0,1}' + '(?:gb|tb)' + '(?!\\S)', re.IGNORECASE)\n",
    "    inch_matcher = re.compile('[1][0-9]\\\"?\\\"?.?[0-9]?\\\"?\\\"? ?(?:inch)?(?!\\S)', re.IGNORECASE)\n",
    "    del laptop_brands, product_attrs, cpu_attributes, intel_cpu_df, amd_cpu_df"
   ]
  },
  {
   "cell_type": "code",
   "execution_count": 174,
   "metadata": {},
   "outputs": [
    {
     "output_type": "execute_result",
     "data": {
      "text/plain": [
       "                                                  title\n",
       "0     hp 2021 premium 14\" hd touchscreen laptop comp...\n",
       "1     2021 newest asus tuf gaming laptop 15.6\" ips f...\n",
       "2     acer aspire 5 slim laptop 15.6 inches full hd ...\n",
       "3     hp chromebook 11 inch laptop up 15 hour batter...\n",
       "4     hp chromebook 14 inch hd laptop intel celeron ...\n",
       "...                                                 ...\n",
       "3614  lenovo thinkpad p71 workstation laptop windows...\n",
       "3615  lenovo thinkpad t480s windows 10 pro laptop in...\n",
       "3616  newest dell inspiron 5000 15.6\" touchscreen le...\n",
       "3617  lenovo thinkpad p71 workstation laptop windows...\n",
       "3618  lenovo thinkpad t490s laptop 14.0\" fhd ips 250...\n",
       "\n",
       "[4088 rows x 1 columns]"
      ],
      "text/html": "<div>\n<style scoped>\n    .dataframe tbody tr th:only-of-type {\n        vertical-align: middle;\n    }\n\n    .dataframe tbody tr th {\n        vertical-align: top;\n    }\n\n    .dataframe thead th {\n        text-align: right;\n    }\n</style>\n<table border=\"1\" class=\"dataframe\">\n  <thead>\n    <tr style=\"text-align: right;\">\n      <th></th>\n      <th>title</th>\n    </tr>\n  </thead>\n  <tbody>\n    <tr>\n      <th>0</th>\n      <td>hp 2021 premium 14\" hd touchscreen laptop comp...</td>\n    </tr>\n    <tr>\n      <th>1</th>\n      <td>2021 newest asus tuf gaming laptop 15.6\" ips f...</td>\n    </tr>\n    <tr>\n      <th>2</th>\n      <td>acer aspire 5 slim laptop 15.6 inches full hd ...</td>\n    </tr>\n    <tr>\n      <th>3</th>\n      <td>hp chromebook 11 inch laptop up 15 hour batter...</td>\n    </tr>\n    <tr>\n      <th>4</th>\n      <td>hp chromebook 14 inch hd laptop intel celeron ...</td>\n    </tr>\n    <tr>\n      <th>...</th>\n      <td>...</td>\n    </tr>\n    <tr>\n      <th>3614</th>\n      <td>lenovo thinkpad p71 workstation laptop windows...</td>\n    </tr>\n    <tr>\n      <th>3615</th>\n      <td>lenovo thinkpad t480s windows 10 pro laptop in...</td>\n    </tr>\n    <tr>\n      <th>3616</th>\n      <td>newest dell inspiron 5000 15.6\" touchscreen le...</td>\n    </tr>\n    <tr>\n      <th>3617</th>\n      <td>lenovo thinkpad p71 workstation laptop windows...</td>\n    </tr>\n    <tr>\n      <th>3618</th>\n      <td>lenovo thinkpad t490s laptop 14.0\" fhd ips 250...</td>\n    </tr>\n  </tbody>\n</table>\n<p>4088 rows × 1 columns</p>\n</div>"
     },
     "metadata": {},
     "execution_count": 174
    }
   ],
   "source": [
    "amazon_laptops = pd.read_csv('data/base/amazon_laptop_titles.csv')\n",
    "walmart_laptops = pd.read_csv('data/base/walmart_laptop_titles.csv')\n",
    "newegg_laptops = pd.read_csv('data/base/newegg_laptop_titles.csv')\n",
    "\n",
    "laptops = remove_misc(pd.concat([amazon_laptops, walmart_laptops, newegg_laptops]))\n",
    "laptops['title'] = laptops['title'].apply(lambda x: remove_stop_words(x))\n",
    "laptops = laptops.drop_duplicates(subset=['title'])\n",
    "laptops"
   ]
  },
  {
   "source": [
    "## Testing the RegEx Expressions"
   ],
   "cell_type": "markdown",
   "metadata": {}
  },
  {
   "cell_type": "code",
   "execution_count": 219,
   "metadata": {},
   "outputs": [],
   "source": [
    "test = remove_stop_words('Acer Predator Helios 300 15.6\"\" inch Gaming Laptop i7-10750H 16GB DDR4 1TB SSD')"
   ]
  },
  {
   "cell_type": "code",
   "execution_count": 220,
   "metadata": {},
   "outputs": [
    {
     "output_type": "execute_result",
     "data": {
      "text/plain": [
       "'acer predator helios 300 15.6\"\" inch gaming laptop i7 10750h 16gb ddr4 1tb ssd'"
      ]
     },
     "metadata": {},
     "execution_count": 220
    }
   ],
   "source": [
    "test"
   ]
  },
  {
   "cell_type": "code",
   "execution_count": 199,
   "metadata": {},
   "outputs": [
    {
     "output_type": "execute_result",
     "data": {
      "text/plain": [
       "['acer']"
      ]
     },
     "metadata": {},
     "execution_count": 199
    }
   ],
   "source": [
    "LaptopRetailerRegEx.brand_matcher.findall(test)"
   ]
  },
  {
   "cell_type": "code",
   "execution_count": 200,
   "metadata": {},
   "outputs": [
    {
     "output_type": "execute_result",
     "data": {
      "text/plain": [
       "['predator']"
      ]
     },
     "metadata": {},
     "execution_count": 200
    }
   ],
   "source": [
    "LaptopRetailerRegEx.product_attr_matcher.findall(test)"
   ]
  },
  {
   "cell_type": "code",
   "execution_count": 241,
   "metadata": {},
   "outputs": [
    {
     "output_type": "execute_result",
     "data": {
      "text/plain": [
       "['15.6\"\" inch']"
      ]
     },
     "metadata": {},
     "execution_count": 241
    }
   ],
   "source": [
    "LaptopRetailerRegEx.inch_matcher.findall(test)"
   ]
  },
  {
   "cell_type": "code",
   "execution_count": 242,
   "metadata": {},
   "outputs": [
    {
     "output_type": "execute_result",
     "data": {
      "text/plain": [
       "['i7', '10750h']"
      ]
     },
     "metadata": {},
     "execution_count": 242
    }
   ],
   "source": [
    "LaptopRetailerRegEx.cpu_matcher.findall(test)"
   ]
  },
  {
   "cell_type": "code",
   "execution_count": 243,
   "metadata": {},
   "outputs": [
    {
     "output_type": "execute_result",
     "data": {
      "text/plain": [
       "[' 16gb ddr4']"
      ]
     },
     "metadata": {},
     "execution_count": 243
    }
   ],
   "source": [
    "LaptopRetailerRegEx.ram_matcher.findall(test)"
   ]
  },
  {
   "cell_type": "code",
   "execution_count": 251,
   "metadata": {},
   "outputs": [
    {
     "output_type": "execute_result",
     "data": {
      "text/plain": [
       "[' 1tb ssd']"
      ]
     },
     "metadata": {},
     "execution_count": 251
    }
   ],
   "source": [
    "LaptopRetailerRegEx.ssd_matcher.findall(test)"
   ]
  },
  {
   "cell_type": "code",
   "execution_count": 252,
   "metadata": {},
   "outputs": [
    {
     "output_type": "execute_result",
     "data": {
      "text/plain": [
       "[]"
      ]
     },
     "metadata": {},
     "execution_count": 252
    }
   ],
   "source": [
    "LaptopRetailerRegEx.hard_drive_matcher.findall(test)"
   ]
  },
  {
   "source": [
    "## Generate the Data"
   ],
   "cell_type": "markdown",
   "metadata": {}
  },
  {
   "cell_type": "code",
   "execution_count": 355,
   "metadata": {},
   "outputs": [],
   "source": [
    "def get_key_attrs(title:str) -> tuple:\n",
    "    \"\"\"\n",
    "    Get each major attribute of a laptop\n",
    "    \"\"\"\n",
    "\n",
    "    # Remove random words that may end up in the important identifiers\n",
    "    random_words = set(LaptopRetailerRegEx.random_matcher.findall(title))\n",
    "    for word in random_words:\n",
    "        title = title.replace(word, '')\n",
    "\n",
    "    brand = list(map(lambda x: x.strip(), LaptopRetailerRegEx.brand_matcher.findall(title)))\n",
    "    product_attr = list(map(lambda x: x.strip(), LaptopRetailerRegEx.product_attr_matcher.findall(title)))\n",
    "    inch = list(map(lambda x: x.strip(), LaptopRetailerRegEx.inch_matcher.findall(title)))\n",
    "    cpu = list(map(lambda x: x.strip(), LaptopRetailerRegEx.cpu_matcher.findall(title)))\n",
    "    ram = list(map(lambda x: x.strip(), LaptopRetailerRegEx.ram_matcher.findall(title)))\n",
    "    ssd = list(map(lambda x: x.strip(), LaptopRetailerRegEx.ssd_matcher.findall(title)))\n",
    "    hard_drive = list(map(lambda x: x.strip(), LaptopRetailerRegEx.hard_drive_matcher.findall(title)))\n",
    "\n",
    "    # Before getting the other gb attributes, make sure we don't get ones from ssd, hard drive or ram\n",
    "    for x in ram:\n",
    "        title = title.replace(x, '')\n",
    "    \n",
    "    for x in ssd:\n",
    "        title = title.replace(x, '')\n",
    "\n",
    "    for x in hard_drive:\n",
    "        title = title.replace(x, '')\n",
    "\n",
    "    other_gb_attrs = list(map(lambda x: x.strip(), LaptopRetailerRegEx.gbtb_matcher.findall(title)))\n",
    "\n",
    "    return (brand, product_attr, inch, cpu, ram, ssd, hard_drive, other_gb_attrs)"
   ]
  },
  {
   "cell_type": "code",
   "execution_count": 354,
   "metadata": {},
   "outputs": [],
   "source": [
    "def get_filler_tokens(orig_title: list, imp_tokens: list) -> list:\n",
    "    \"\"\"\n",
    "    Get all of the filler words (words that are not major attributes)\n",
    "    \"\"\"\n",
    "\n",
    "    filler_tokens = []\n",
    "    for token in orig_title:\n",
    "        if token not in imp_tokens:\n",
    "            filler_tokens.append(token)\n",
    "\n",
    "    return filler_tokens"
   ]
  },
  {
   "cell_type": "code",
   "execution_count": 356,
   "metadata": {},
   "outputs": [],
   "source": [
    "def remove_filler_tokens(orig_title: list, filler_tokens: list) -> list:\n",
    "    \"\"\"\"\n",
    "    Generates new titles with less filler words in it\n",
    "    \"\"\"\n",
    "    \n",
    "    new_titles = []\n",
    "    amt_filler_tokens = len(filler_tokens)\n",
    "    if (len(filler_tokens) > 1):\n",
    "        for x in range(len(filler_tokens)): # For as many filler tokens are there are, we are going to create that many new titles\n",
    "            new_title = orig_title.copy()\n",
    "            filler_tokens_cp = filler_tokens.copy()\n",
    "            amt_to_remove = random.randint(int(amt_filler_tokens * 0.25), amt_filler_tokens)\n",
    "            for x in range(amt_to_remove): # Get a random amount of filler tokens to remove\n",
    "                filler = random.choice(filler_tokens_cp)\n",
    "                new_title.remove(filler)\n",
    "                filler_tokens_cp.remove(filler)\n",
    "            new_titles.append(' '.join(new_title))\n",
    "    \n",
    "    return new_titles"
   ]
  },
  {
   "cell_type": "code",
   "execution_count": 357,
   "metadata": {},
   "outputs": [],
   "source": [
    "def manipulate_ram(attr: str) -> str:\n",
    "    \"\"\"\n",
    "    Uses different ways of saying ram\n",
    "    \"\"\"\n",
    "\n",
    "    attr = attr.split('gb')[0] + 'gb ' + random.choice(LaptopRetailerRegEx.ram_modifiers)\n",
    "    return attr"
   ]
  },
  {
   "cell_type": "code",
   "execution_count": 358,
   "metadata": {},
   "outputs": [],
   "source": [
    "def manipulate_ssd(attr: str) -> str:\n",
    "    \"\"\"\n",
    "    Uses different ways of saying an ssd\n",
    "    \"\"\"\n",
    "\n",
    "    if 'gb' in attr:\n",
    "        type_drive = 'gb '\n",
    "    else:\n",
    "        type_drive = 'tb '\n",
    "\n",
    "    attr = attr.split(type_drive)[0] + type_drive + random.choice(LaptopRetailerRegEx.ssd_modifiers)\n",
    "    return attr"
   ]
  },
  {
   "cell_type": "code",
   "execution_count": 359,
   "metadata": {},
   "outputs": [],
   "source": [
    "def manipulate_hard_drive(attr: str) -> str:\n",
    "    \"\"\"\n",
    "    Uses different ways of saying hard drive\n",
    "    \"\"\"\n",
    "\n",
    "    if 'gb' in attr:\n",
    "        type_drive = 'gb '\n",
    "    else:\n",
    "        type_drive = 'tb '\n",
    "\n",
    "    attr = attr.split(type_drive)[0] + type_drive + random.choice(LaptopRetailerRegEx.hard_drive_modifiers)\n",
    "    return attr"
   ]
  },
  {
   "cell_type": "code",
   "execution_count": 360,
   "metadata": {},
   "outputs": [],
   "source": [
    "def manipulate_title_gbtb(titles: list, ssd_attrs: list, hard_drive_attrs: list, ram_attrs: list) -> str:\n",
    "    \"\"\"\n",
    "    Uses the \"manipulate\" functions to vary the titles\n",
    "    \"\"\"\n",
    "\n",
    "    modified_titles = []\n",
    "    for x in titles:\n",
    "        for drive in ssd_attrs:\n",
    "            x = x.replace(drive, manipulate_ssd(drive))\n",
    "        for drive in hard_drive_attrs:\n",
    "            x = x.replace(drive, manipulate_hard_drive(drive))\n",
    "        for mem in ram_attrs:\n",
    "            x = x.replace(mem, manipulate_ram(mem))\n",
    "        \n",
    "        modified_titles.append(x)\n",
    "\n",
    "    return modified_titles"
   ]
  },
  {
   "cell_type": "code",
   "execution_count": 361,
   "metadata": {},
   "outputs": [],
   "source": [
    "def create_pos_laptop_data(df):\n",
    "    \"\"\"\n",
    "    Using the scraped laptop data, create positive pairs\n",
    "    \"\"\"\n",
    "\n",
    "    MAX_POS_TITLES = 6\n",
    "    temp = []\n",
    "    for title in df['title']:\n",
    "        # Get each major attribute of a laptop\n",
    "        brand, product_attr, inch, cpu, ram, ssd, hard_drive, other_gb_attrs = get_key_attrs(title)\n",
    "\n",
    "        # Make sure the product is actually a laptop\n",
    "        if ram == [] and ssd == [] and hard_drive and other_gb_attrs == []:\n",
    "            continue\n",
    "        \n",
    "        # Create a \"simple\" version of the title using only the major attributes\n",
    "        shuffle = [cpu, *list(map(lambda x: x.split(' '), ram)),\n",
    "        *list(map(lambda x: x.split(' '), ssd)), \n",
    "        *list(map(lambda x: x.split(' '), hard_drive)), \n",
    "        *list(map(lambda x: x.split(' '), other_gb_attrs))]\n",
    "        random.shuffle(shuffle)\n",
    "\n",
    "        pos_title1 = brand + product_attr + inch\n",
    "        for x in shuffle:\n",
    "            pos_title1 = pos_title1 + x\n",
    "\n",
    "        # Get all of the filler words (words that are not major attributes)\n",
    "        orig_title = title.split(' ')\n",
    "        filler_tokens = get_filler_tokens(orig_title, pos_title1)\n",
    "\n",
    "        # Generate a list of titles that do not have as many filler words\n",
    "        new_titles = remove_filler_tokens(orig_title, filler_tokens)\n",
    "\n",
    "        # Change up the less semantically meaningful attributes on drives/ram\n",
    "        new_titles = manipulate_title_gbtb(new_titles, ssd, hard_drive, ram)\n",
    "        \n",
    "        # Choose how many combos we're going to have\n",
    "        amt_new_titles = MAX_POS_TITLES\n",
    "        if (len(new_titles) < MAX_POS_TITLES):\n",
    "            amt_new_titles = len(new_titles)\n",
    "        \n",
    "        # Create the combination with the original title\n",
    "        temp.append([title, ' '.join(pos_title1), 1])\n",
    "        for x in range(amt_new_titles):\n",
    "            pos = random.choice(new_titles)\n",
    "            temp.append([title, pos, 1])\n",
    "            new_titles.remove(pos)\n",
    "        \n",
    "    return pd.DataFrame(temp, columns=['title_one', 'title_two', 'label'])\n",
    "        "
   ]
  },
  {
   "cell_type": "code",
   "execution_count": 362,
   "metadata": {
    "tags": []
   },
   "outputs": [],
   "source": [
    "pos_titles = create_pos_laptop_data(laptops)"
   ]
  },
  {
   "cell_type": "code",
   "execution_count": 363,
   "metadata": {},
   "outputs": [],
   "source": [
    "pos_titles = pos_titles.drop_duplicates(subset=['title_two'])"
   ]
  },
  {
   "cell_type": "code",
   "execution_count": 364,
   "metadata": {},
   "outputs": [
    {
     "output_type": "execute_result",
     "data": {
      "text/plain": [
       "                                               title_one  \\\n",
       "0      hp 2021 premium 14\" hd touchscreen laptop comp...   \n",
       "1      hp 2021 premium 14\" hd touchscreen laptop comp...   \n",
       "2      hp 2021 premium 14\" hd touchscreen laptop comp...   \n",
       "3      hp 2021 premium 14\" hd touchscreen laptop comp...   \n",
       "4      hp 2021 premium 14\" hd touchscreen laptop comp...   \n",
       "...                                                  ...   \n",
       "28119  lenovo thinkpad t490s laptop 14.0\" fhd ips 250...   \n",
       "28120  lenovo thinkpad t490s laptop 14.0\" fhd ips 250...   \n",
       "28121  lenovo thinkpad t490s laptop 14.0\" fhd ips 250...   \n",
       "28122  lenovo thinkpad t490s laptop 14.0\" fhd ips 250...   \n",
       "28123  lenovo thinkpad t490s laptop 14.0\" fhd ips 250...   \n",
       "\n",
       "                                               title_two  label  \n",
       "0      hp 14\" 256gb ssd 8gb ram 2 core amd ryzen 3 3250u      1  \n",
       "1      hp 14\" amd ryzen 3 3250u 8gb ddr4 256gb solid ...      1  \n",
       "2            hp 14\" amd ryzen 3 3250u 8gb ddr4 256gb ssd      1  \n",
       "3        hp 14\" amd ryzen 3 3250u 8gb ddr4 ram 256gb ssd      1  \n",
       "4      hp 2021 14\" hd touchscreen computer 2 core amd...      1  \n",
       "...                                                  ...    ...  \n",
       "28119  lenovo thinkpad 14.0\" i5 8365u 8gb 256gb ssd p...      1  \n",
       "28120  lenovo thinkpad 14.0\" fhd ips i5 8365u uhd 8gb...      1  \n",
       "28121  lenovo thinkpad t490s 14.0\" fhd ips 250 nits i...      1  \n",
       "28122  lenovo thinkpad t490s laptop 14.0\" ips 250 nit...      1  \n",
       "28123  lenovo thinkpad t490s laptop 14.0\" fhd 250 i5 ...      1  \n",
       "\n",
       "[27855 rows x 3 columns]"
      ],
      "text/html": "<div>\n<style scoped>\n    .dataframe tbody tr th:only-of-type {\n        vertical-align: middle;\n    }\n\n    .dataframe tbody tr th {\n        vertical-align: top;\n    }\n\n    .dataframe thead th {\n        text-align: right;\n    }\n</style>\n<table border=\"1\" class=\"dataframe\">\n  <thead>\n    <tr style=\"text-align: right;\">\n      <th></th>\n      <th>title_one</th>\n      <th>title_two</th>\n      <th>label</th>\n    </tr>\n  </thead>\n  <tbody>\n    <tr>\n      <th>0</th>\n      <td>hp 2021 premium 14\" hd touchscreen laptop comp...</td>\n      <td>hp 14\" 256gb ssd 8gb ram 2 core amd ryzen 3 3250u</td>\n      <td>1</td>\n    </tr>\n    <tr>\n      <th>1</th>\n      <td>hp 2021 premium 14\" hd touchscreen laptop comp...</td>\n      <td>hp 14\" amd ryzen 3 3250u 8gb ddr4 256gb solid ...</td>\n      <td>1</td>\n    </tr>\n    <tr>\n      <th>2</th>\n      <td>hp 2021 premium 14\" hd touchscreen laptop comp...</td>\n      <td>hp 14\" amd ryzen 3 3250u 8gb ddr4 256gb ssd</td>\n      <td>1</td>\n    </tr>\n    <tr>\n      <th>3</th>\n      <td>hp 2021 premium 14\" hd touchscreen laptop comp...</td>\n      <td>hp 14\" amd ryzen 3 3250u 8gb ddr4 ram 256gb ssd</td>\n      <td>1</td>\n    </tr>\n    <tr>\n      <th>4</th>\n      <td>hp 2021 premium 14\" hd touchscreen laptop comp...</td>\n      <td>hp 2021 14\" hd touchscreen computer 2 core amd...</td>\n      <td>1</td>\n    </tr>\n    <tr>\n      <th>...</th>\n      <td>...</td>\n      <td>...</td>\n      <td>...</td>\n    </tr>\n    <tr>\n      <th>28119</th>\n      <td>lenovo thinkpad t490s laptop 14.0\" fhd ips 250...</td>\n      <td>lenovo thinkpad 14.0\" i5 8365u 8gb 256gb ssd p...</td>\n      <td>1</td>\n    </tr>\n    <tr>\n      <th>28120</th>\n      <td>lenovo thinkpad t490s laptop 14.0\" fhd ips 250...</td>\n      <td>lenovo thinkpad 14.0\" fhd ips i5 8365u uhd 8gb...</td>\n      <td>1</td>\n    </tr>\n    <tr>\n      <th>28121</th>\n      <td>lenovo thinkpad t490s laptop 14.0\" fhd ips 250...</td>\n      <td>lenovo thinkpad t490s 14.0\" fhd ips 250 nits i...</td>\n      <td>1</td>\n    </tr>\n    <tr>\n      <th>28122</th>\n      <td>lenovo thinkpad t490s laptop 14.0\" fhd ips 250...</td>\n      <td>lenovo thinkpad t490s laptop 14.0\" ips 250 nit...</td>\n      <td>1</td>\n    </tr>\n    <tr>\n      <th>28123</th>\n      <td>lenovo thinkpad t490s laptop 14.0\" fhd ips 250...</td>\n      <td>lenovo thinkpad t490s laptop 14.0\" fhd 250 i5 ...</td>\n      <td>1</td>\n    </tr>\n  </tbody>\n</table>\n<p>27855 rows × 3 columns</p>\n</div>"
     },
     "metadata": {},
     "execution_count": 364
    }
   ],
   "source": [
    "pos_titles"
   ]
  },
  {
   "cell_type": "code",
   "execution_count": null,
   "metadata": {},
   "outputs": [],
   "source": [
    "def create_neg_lapotp_data(df):\n",
    "    \"\"\"\n",
    "    Using the scraped laptop data, create positive pairs\n",
    "    \"\"\"\n",
    "\n",
    "    MAX_POS_TITLES = 6\n",
    "    temp = []\n",
    "    for title in df['title']:\n",
    "        # Get each major attribute of a laptop\n",
    "        brand, product_attr, inch, cpu, ram, ssd, hard_drive, other_gb_attrs = get_key_attrs(title)\n",
    "\n",
    "        # Make sure the product is actually a laptop\n",
    "        if ram == [] and ssd == [] and hard_drive and other_gb_attrs == []:\n",
    "            continue"
   ]
  },
  {
   "cell_type": "code",
   "execution_count": 190,
   "metadata": {},
   "outputs": [
    {
     "output_type": "execute_result",
     "data": {
      "text/plain": [
       "[' 8gb', ' 256gb ssd']"
      ]
     },
     "metadata": {},
     "execution_count": 190
    }
   ],
   "source": [
    "LaptopRetailerRegEx.drive_matcher.findall('hp 2021 premium 14inch hd touchscreen laptop computer 2 core amd ryzen 3 3250u 2.6ghz 8gb ram 256gb ssd no dvd webcam bluetooth wi fi hdmi win 10 s rokc hdmi cable')"
   ]
  },
  {
   "cell_type": "code",
   "execution_count": null,
   "metadata": {},
   "outputs": [],
   "source": []
  }
 ]
}